{
 "cells": [
  {
   "cell_type": "markdown",
   "metadata": {},
   "source": [
    "![image info](https://raw.githubusercontent.com/albahnsen/MIAD_ML_and_NLP/main/images/banner_1.png)"
   ]
  },
  {
   "cell_type": "markdown",
   "metadata": {},
   "source": [
    "# Proyecto 2 - Clasificación de género de películas\n",
    "\n",
    "Elaborado por: Héctor David Castro, Gabriel Bolaños, Jaime Rodriguez y José Hoyos"
   ]
  },
  {
   "cell_type": "markdown",
   "metadata": {},
   "source": [
    "En este proyecto se usará un conjunto de datos de géneros de películas. Cada observación contiene el título de una película, su año de lanzamiento, la sinopsis o plot de la película (resumen de la trama) y los géneros a los que pertenece.\n",
    "\n",
    "El algoritmo predice la probabilidad de que una película pertenezca, dada la sinopsis, a cada uno de los géneros."
   ]
  },
  {
   "cell_type": "markdown",
   "metadata": {},
   "source": [
    "Agradecemos al profesor Fabio González, Ph.D. y a su alumno John Arevalo por proporcionar este conjunto de datos. Ver https://arxiv.org/abs/1702.01992"
   ]
  },
  {
   "cell_type": "code",
   "execution_count": 1,
   "metadata": {},
   "outputs": [],
   "source": [
    "import warnings\n",
    "warnings.filterwarnings('ignore')"
   ]
  },
  {
   "cell_type": "code",
   "execution_count": 2,
   "metadata": {},
   "outputs": [],
   "source": [
    "# Importación librerías\n",
    "import pandas as pd\n",
    "import os\n",
    "import numpy as np\n",
    "from sklearn.feature_extraction.text import CountVectorizer, TfidfVectorizer\n",
    "from sklearn.preprocessing import MultiLabelBinarizer\n",
    "from sklearn.multiclass import OneVsRestClassifier\n",
    "from sklearn.ensemble import RandomForestRegressor, RandomForestClassifier\n",
    "from sklearn.metrics import r2_score, roc_auc_score\n",
    "from sklearn.model_selection import train_test_split\n",
    "from tensorflow.keras.models import Sequential\n",
    "from tensorflow.keras.layers import Dense, Dropout\n",
    "from tensorflow.keras import regularizers\n",
    "from tensorflow.keras.callbacks import EarlyStopping\n",
    "import matplotlib.pyplot as plt\n",
    "from gensim.models import Word2Vec\n",
    "from keras.models import Sequential, Model\n",
    "from keras.layers import Dense, Input\n",
    "from keras import metrics\n",
    "#from keras.wrappers.scikit_learn import KerasClassifier, KerasRegressor\n",
    "from keras.callbacks import EarlyStopping\n",
    "from keras import backend as K\n",
    "from livelossplot import PlotLossesKeras\n",
    "from sklearn.model_selection import GridSearchCV"
   ]
  },
  {
   "cell_type": "code",
   "execution_count": 3,
   "metadata": {},
   "outputs": [],
   "source": [
    "# Carga de datos de archivo .csv\n",
    "dataTraining = pd.read_csv('https://github.com/albahnsen/MIAD_ML_and_NLP/raw/main/datasets/dataTraining.zip', encoding='UTF-8', index_col=0)\n",
    "dataTesting = pd.read_csv('https://github.com/albahnsen/MIAD_ML_and_NLP/raw/main/datasets/dataTesting.zip', encoding='UTF-8', index_col=0)"
   ]
  },
  {
   "cell_type": "code",
   "execution_count": 42,
   "metadata": {},
   "outputs": [
    {
     "data": {
      "text/html": [
       "<div>\n",
       "<style scoped>\n",
       "    .dataframe tbody tr th:only-of-type {\n",
       "        vertical-align: middle;\n",
       "    }\n",
       "\n",
       "    .dataframe tbody tr th {\n",
       "        vertical-align: top;\n",
       "    }\n",
       "\n",
       "    .dataframe thead th {\n",
       "        text-align: right;\n",
       "    }\n",
       "</style>\n",
       "<table border=\"1\" class=\"dataframe\">\n",
       "  <thead>\n",
       "    <tr style=\"text-align: right;\">\n",
       "      <th></th>\n",
       "      <th>year</th>\n",
       "      <th>title</th>\n",
       "      <th>plot</th>\n",
       "      <th>genres</th>\n",
       "      <th>rating</th>\n",
       "    </tr>\n",
       "  </thead>\n",
       "  <tbody>\n",
       "    <tr>\n",
       "      <th>3107</th>\n",
       "      <td>2003</td>\n",
       "      <td>Most</td>\n",
       "      <td>most is the story of a single father who takes...</td>\n",
       "      <td>['Short', 'Drama']</td>\n",
       "      <td>8.0</td>\n",
       "    </tr>\n",
       "    <tr>\n",
       "      <th>900</th>\n",
       "      <td>2008</td>\n",
       "      <td>How to Be a Serial Killer</td>\n",
       "      <td>a serial killer decides to teach the secrets o...</td>\n",
       "      <td>['Comedy', 'Crime', 'Horror']</td>\n",
       "      <td>5.6</td>\n",
       "    </tr>\n",
       "    <tr>\n",
       "      <th>6724</th>\n",
       "      <td>1941</td>\n",
       "      <td>A Woman's Face</td>\n",
       "      <td>in sweden ,  a female blackmailer with a disfi...</td>\n",
       "      <td>['Drama', 'Film-Noir', 'Thriller']</td>\n",
       "      <td>7.2</td>\n",
       "    </tr>\n",
       "    <tr>\n",
       "      <th>4704</th>\n",
       "      <td>1954</td>\n",
       "      <td>Executive Suite</td>\n",
       "      <td>in a friday afternoon in new york ,  the presi...</td>\n",
       "      <td>['Drama']</td>\n",
       "      <td>7.4</td>\n",
       "    </tr>\n",
       "    <tr>\n",
       "      <th>2582</th>\n",
       "      <td>1990</td>\n",
       "      <td>Narrow Margin</td>\n",
       "      <td>in los angeles ,  the editor of a publishing h...</td>\n",
       "      <td>['Action', 'Crime', 'Thriller']</td>\n",
       "      <td>6.6</td>\n",
       "    </tr>\n",
       "  </tbody>\n",
       "</table>\n",
       "</div>"
      ],
      "text/plain": [
       "      year                      title  \\\n",
       "3107  2003                       Most   \n",
       "900   2008  How to Be a Serial Killer   \n",
       "6724  1941             A Woman's Face   \n",
       "4704  1954            Executive Suite   \n",
       "2582  1990              Narrow Margin   \n",
       "\n",
       "                                                   plot  \\\n",
       "3107  most is the story of a single father who takes...   \n",
       "900   a serial killer decides to teach the secrets o...   \n",
       "6724  in sweden ,  a female blackmailer with a disfi...   \n",
       "4704  in a friday afternoon in new york ,  the presi...   \n",
       "2582  in los angeles ,  the editor of a publishing h...   \n",
       "\n",
       "                                  genres  rating  \n",
       "3107                  ['Short', 'Drama']     8.0  \n",
       "900        ['Comedy', 'Crime', 'Horror']     5.6  \n",
       "6724  ['Drama', 'Film-Noir', 'Thriller']     7.2  \n",
       "4704                           ['Drama']     7.4  \n",
       "2582     ['Action', 'Crime', 'Thriller']     6.6  "
      ]
     },
     "execution_count": 42,
     "metadata": {},
     "output_type": "execute_result"
    }
   ],
   "source": [
    "# Visualización datos de entrenamiento\n",
    "dataTraining.head()"
   ]
  },
  {
   "cell_type": "code",
   "execution_count": 4,
   "metadata": {},
   "outputs": [
    {
     "data": {
      "text/html": [
       "<div>\n",
       "<style scoped>\n",
       "    .dataframe tbody tr th:only-of-type {\n",
       "        vertical-align: middle;\n",
       "    }\n",
       "\n",
       "    .dataframe tbody tr th {\n",
       "        vertical-align: top;\n",
       "    }\n",
       "\n",
       "    .dataframe thead th {\n",
       "        text-align: right;\n",
       "    }\n",
       "</style>\n",
       "<table border=\"1\" class=\"dataframe\">\n",
       "  <thead>\n",
       "    <tr style=\"text-align: right;\">\n",
       "      <th></th>\n",
       "      <th>year</th>\n",
       "      <th>title</th>\n",
       "      <th>plot</th>\n",
       "    </tr>\n",
       "  </thead>\n",
       "  <tbody>\n",
       "    <tr>\n",
       "      <th>1</th>\n",
       "      <td>1999</td>\n",
       "      <td>Message in a Bottle</td>\n",
       "      <td>who meets by fate ,  shall be sealed by fate ....</td>\n",
       "    </tr>\n",
       "    <tr>\n",
       "      <th>4</th>\n",
       "      <td>1978</td>\n",
       "      <td>Midnight Express</td>\n",
       "      <td>the true story of billy hayes ,  an american c...</td>\n",
       "    </tr>\n",
       "    <tr>\n",
       "      <th>5</th>\n",
       "      <td>1996</td>\n",
       "      <td>Primal Fear</td>\n",
       "      <td>martin vail left the chicago da ' s office to ...</td>\n",
       "    </tr>\n",
       "    <tr>\n",
       "      <th>6</th>\n",
       "      <td>1950</td>\n",
       "      <td>Crisis</td>\n",
       "      <td>husband and wife americans dr .  eugene and mr...</td>\n",
       "    </tr>\n",
       "    <tr>\n",
       "      <th>7</th>\n",
       "      <td>1959</td>\n",
       "      <td>The Tingler</td>\n",
       "      <td>the coroner and scientist dr .  warren chapin ...</td>\n",
       "    </tr>\n",
       "  </tbody>\n",
       "</table>\n",
       "</div>"
      ],
      "text/plain": [
       "   year                title  \\\n",
       "1  1999  Message in a Bottle   \n",
       "4  1978     Midnight Express   \n",
       "5  1996          Primal Fear   \n",
       "6  1950               Crisis   \n",
       "7  1959          The Tingler   \n",
       "\n",
       "                                                plot  \n",
       "1  who meets by fate ,  shall be sealed by fate ....  \n",
       "4  the true story of billy hayes ,  an american c...  \n",
       "5  martin vail left the chicago da ' s office to ...  \n",
       "6  husband and wife americans dr .  eugene and mr...  \n",
       "7  the coroner and scientist dr .  warren chapin ...  "
      ]
     },
     "execution_count": 4,
     "metadata": {},
     "output_type": "execute_result"
    }
   ],
   "source": [
    "# Visualización datos de test\n",
    "dataTesting.head()"
   ]
  },
  {
   "cell_type": "code",
   "execution_count": 49,
   "metadata": {},
   "outputs": [
    {
     "data": {
      "text/plain": [
       "\"who meets by fate ,  shall be sealed by fate .  theresa osborne is running along the beach when she stumbles upon a bottle washed up on the shore .  inside is a message ,  reading the letter she feels so moved and yet she felt as if she has violated someone ' s thoughts .  in love with a man she has never met ,  theresa tracks down the author of the letter to a small town in wilmington ,  two lovers with crossed paths .  but yet one can ' t let go of their past .\""
      ]
     },
     "execution_count": 49,
     "metadata": {},
     "output_type": "execute_result"
    }
   ],
   "source": [
    "dataTesting['plot'][1]"
   ]
  },
  {
   "cell_type": "markdown",
   "metadata": {},
   "source": [
    "# Preprocesamiento de datos"
   ]
  },
  {
   "cell_type": "markdown",
   "metadata": {},
   "source": [
    "## TFIDVectorizer + Stop words + Lematización de verbos"
   ]
  },
  {
   "cell_type": "code",
   "execution_count": 15,
   "metadata": {},
   "outputs": [
    {
     "name": "stderr",
     "output_type": "stream",
     "text": [
      "[nltk_data] Downloading package stopwords to\n",
      "[nltk_data]     /Users/gabrielbga/nltk_data...\n",
      "[nltk_data]   Package stopwords is already up-to-date!\n",
      "[nltk_data] Downloading package wordnet to\n",
      "[nltk_data]     /Users/gabrielbga/nltk_data...\n",
      "[nltk_data]   Package wordnet is already up-to-date!\n",
      "[nltk_data] Downloading package averaged_perceptron_tagger to\n",
      "[nltk_data]     /Users/gabrielbga/nltk_data...\n",
      "[nltk_data]   Package averaged_perceptron_tagger is already up-to-\n",
      "[nltk_data]       date!\n"
     ]
    }
   ],
   "source": [
    "import nltk\n",
    "nltk.download('stopwords')\n",
    "from nltk.corpus import stopwords\n",
    "from nltk.stem import WordNetLemmatizer\n",
    "wordnet_lemmatizer = WordNetLemmatizer()\n",
    "import nltk\n",
    "nltk.download('wordnet')\n",
    "nltk.download('averaged_perceptron_tagger')\n",
    "\n",
    "# Cargamos los stopwords en una variable\n",
    "stop_words_ = list(set(stopwords.words('english')))\n",
    "\n",
    "# Creamos un objeto WordNetLemmatizer\n",
    "lemmatizer = WordNetLemmatizer()\n",
    "\n",
    "# Definición de la función que tenga como parámetro texto y devuelva una lista de lemas\n",
    "def split_into_lemmas(text):\n",
    "    text = text.lower()\n",
    "    words = text.split()\n",
    "    return [wordnet_lemmatizer.lemmatize(word) for word in words]\n",
    "\n",
    "# Vectorizamos los comentarios \n",
    "vect = TfidfVectorizer(max_features=10000,stop_words=stop_words_,analyzer=split_into_lemmas)\n",
    "\n",
    "# Definición de variables predictoras (X)\n",
    "X_dtm = vect.fit_transform(dataTraining['plot'])\n",
    "\n",
    "# Definición de la variable respuesta (y)\n",
    "X_test_dtm = vect.transform(dataTesting['plot'])"
   ]
  },
  {
   "cell_type": "markdown",
   "metadata": {},
   "source": [
    "En primer lugar, probamos el eliminar los stopwords o palabras más comunes y esto mejoró la predicción del modelo. Seguidamente usamos lematización, proceso en el cual cada palabra se busca en un diccionario el cual ha sido previamente calculado y este, para cada palabra, nos va a decir cuál debe ser su representación. Usamos dos tipos de lematización, una que da la definición de la función para que tenga como parámetro texto y devuelva una lista de lemas, y el otro para lematizar los verbos en cada comentario. Los mejores valores se dieron con el primero por lo que solo documentamos este. \n",
    "\n",
    "Para tokenizar los comentarios probamos los tokenizadores Count y TFID con valores por defecto. Los resultados mejoraron usando TFIDVectorizer en lugar de CountVectorizer. Esto es porque mientras que CountVectorizer simplemente cuenta el número de veces que aparece una palabra en un texto, TFID no solamente cuenta el número de veces sino que también evalúa que tan importante es la palabra en ese texto. Esto se hace gracias a la penalización de algunas palabras que el algoritmo considera menos importantes. Precisamente este factor es el que puede darle ventaja de TF-IDF sobre CountVectorizer, dado que, en resumen, este último pesa todas las palabras por igual, mientras que el primero ayuda a lidiar con las palabras más repetitivas y las penaliza.\n",
    "\n",
    "En conclusión, usando la mayoría de técnicas de preprocesamiento, los mejores valores predictivos del modelo los encontramoso usando FIDVectorizer + Stop words + Lematización de verbos."
   ]
  },
  {
   "cell_type": "code",
   "execution_count": 16,
   "metadata": {},
   "outputs": [
    {
     "data": {
      "text/plain": [
       "array([[0, 0, 0, ..., 0, 0, 0],\n",
       "       [0, 0, 0, ..., 0, 0, 0],\n",
       "       [0, 0, 0, ..., 1, 0, 0],\n",
       "       ...,\n",
       "       [0, 1, 0, ..., 0, 0, 0],\n",
       "       [0, 1, 1, ..., 0, 0, 0],\n",
       "       [0, 1, 1, ..., 0, 0, 0]])"
      ]
     },
     "execution_count": 16,
     "metadata": {},
     "output_type": "execute_result"
    }
   ],
   "source": [
    "# Definición de variable de interés (y)\n",
    "dataTraining['genres'] = dataTraining['genres'].map(lambda x: eval(x))\n",
    "le = MultiLabelBinarizer()\n",
    "y_genres = le.fit_transform(dataTraining['genres'])\n",
    "y_genres"
   ]
  },
  {
   "cell_type": "code",
   "execution_count": 17,
   "metadata": {},
   "outputs": [],
   "source": [
    "# Convertir la matriz dispersa en una matriz densa de NumPy de train y test\n",
    "X_dtm = X_dtm.toarray()\n",
    "X_test_dtm = X_test_dtm.toarray()"
   ]
  },
  {
   "cell_type": "code",
   "execution_count": 18,
   "metadata": {},
   "outputs": [],
   "source": [
    "# Separación de variables predictoras (X) y variable de interés (y) en set de entrenamiento y test usandola función train_test_split\n",
    "X_train, X_test, y_train_genres, y_test_genres = train_test_split(X_dtm, y_genres, test_size=0.33, random_state=42)"
   ]
  },
  {
   "cell_type": "code",
   "execution_count": 19,
   "metadata": {},
   "outputs": [
    {
     "name": "stdout",
     "output_type": "stream",
     "text": [
      "10000 input variables\n"
     ]
    }
   ],
   "source": [
    "# Definición de dimensiones de entrada (variables predictoras)\n",
    "dims = X_train.shape[1]\n",
    "print(dims, 'input variables')"
   ]
  },
  {
   "cell_type": "code",
   "execution_count": 20,
   "metadata": {},
   "outputs": [
    {
     "name": "stdout",
     "output_type": "stream",
     "text": [
      "24  output variables\n"
     ]
    }
   ],
   "source": [
    "# Definición de dimensiones de salida (variables de interés)\n",
    "output_var = y_train_genres.shape[1]\n",
    "print(output_var, ' output variables')"
   ]
  },
  {
   "cell_type": "markdown",
   "metadata": {},
   "source": [
    "Finalmente, separamos la muestra en entrenamiento y evaluación para posteriormente calibrar y entrenar el modelo."
   ]
  },
  {
   "cell_type": "markdown",
   "metadata": {},
   "source": [
    "# Calibración del modelo"
   ]
  },
  {
   "cell_type": "markdown",
   "metadata": {},
   "source": [
    "Las redes neuronales pueden hacer muy facilmente overfitting con los datos de entrenamiento. Por lo que hacer split con data de validación, permite calibrar hiperparametros de la red y así hacer que el algoritmo logre generalizar todos los casos posibles."
   ]
  },
  {
   "cell_type": "code",
   "execution_count": 21,
   "metadata": {},
   "outputs": [],
   "source": [
    "# Separación de datos de entrenamiento para considerar un set de validación durante entrenamiento\n",
    "X_train, X_val, Y_train, Y_val = train_test_split(X_train, y_train_genres, test_size=0.15, random_state=42)"
   ]
  },
  {
   "cell_type": "markdown",
   "metadata": {},
   "source": [
    "Definimos una función nn_model_params que crea una red neuronal a partir de 7 diferentes parámetros a calibrar:"
   ]
  },
  {
   "cell_type": "code",
   "execution_count": 22,
   "metadata": {},
   "outputs": [],
   "source": [
    "# Definición de función que crea una red neuronal a partir de diferentes parámetros (nn_model_params)\n",
    "def nn_model_params(optimizer,\n",
    "                    neurons,\n",
    "                    batch_size,\n",
    "                    epochs,\n",
    "                    activation,\n",
    "                    patience,\n",
    "                    loss): #Función de pérdida\n",
    "    \n",
    "    K.clear_session()\n",
    "\n",
    "    # Definición red neuronal con la función Sequential()\n",
    "    model = Sequential()\n",
    "    \n",
    "    # Definición de las capas de la red con el número de neuronas y la función de activación definidos en la función nn_model_params\n",
    "    model.add(Dense(neurons, input_shape=(dims,), activation=activation))\n",
    "    model.add(Dense(neurons, activation=activation))\n",
    "    model.add(Dense(output_var, activation=activation))\n",
    "\n",
    "    # Definición de función de perdida con parámetros definidos en la función nn_model_params\n",
    "    model.compile(optimizer = optimizer, loss=loss)\n",
    "    \n",
    "    # Definición de la función EarlyStopping con parámetro definido en la función nn_model_params\n",
    "    early_stopping = EarlyStopping(monitor=\"val_loss\", patience = patience)\n",
    "\n",
    "    # Entrenamiento de la red neuronal con parámetros definidos en la función nn_model_params\n",
    "    model.fit(X_train, Y_train,\n",
    "              validation_data = (X_val, Y_val),\n",
    "              epochs=epochs,\n",
    "              batch_size=batch_size,\n",
    "              callbacks=[early_stopping, PlotLossesKeras()],\n",
    "              verbose=True\n",
    "              )\n",
    "     \n",
    "    return model"
   ]
  },
  {
   "cell_type": "code",
   "execution_count": 15,
   "metadata": {},
   "outputs": [],
   "source": [
    "# Definición de parámetros y sus valores sobre los que se va a calibrar\n",
    "nn_params = {\n",
    "    'optimizer': ['adam','sgd'],\n",
    "    'activation': ['sigmoid'],\n",
    "    'batch_size': [64,128],\n",
    "    'neurons':[64,256],\n",
    "    'epochs':[20,50],\n",
    "    'patience':[2,5],\n",
    "    'loss':['binary_crossentropy']\n",
    "}"
   ]
  },
  {
   "cell_type": "markdown",
   "metadata": {},
   "source": [
    "## Método busqueda por cuadrícula (Grid Search)\n",
    "\n",
    "La búsqueda por cuadrícula es un método de calibración de parámetros donde se considera exhaustivamente todas las combinaciones de parámetros de un conjunto determinado."
   ]
  },
  {
   "cell_type": "code",
   "execution_count": 16,
   "metadata": {},
   "outputs": [
    {
     "data": {
      "image/png": "[encoded data removed]",
      "text/plain": [
       "<Figure size 1200x800 with 2 Axes>"
      ]
     },
     "metadata": {},
     "output_type": "display_data"
    },
    {
     "name": "stdout",
     "output_type": "stream",
     "text": [
      "Loss\n",
      "\ttraining         \t (min:    0.114, max:    0.314, cur:    0.114)\n",
      "\tvalidation       \t (min:    0.225, max:    0.298, cur:    0.238)\n",
      "71/71 [==============================] - 2s 32ms/step - loss: 0.1139 - val_loss: 0.2375\n",
      "Los mejores parametros segun Grid Search: {'activation': 'sigmoid', 'batch_size': 64, 'epochs': 20, 'loss': 'binary_crossentropy', 'neurons': 256, 'optimizer': 'adam', 'patience': 5}\n"
     ]
    }
   ],
   "source": [
    "# Definición de red neuronal usando el wrapper KerasRegressor y usando como argumento build_fn en la función nn_model_params\n",
    "nn_model = KerasRegressor(build_fn=nn_model_params, verbose=0)\n",
    "\n",
    "# Definición método GridSearch para la calibración de parámetros definidos en nn_params\n",
    "gs = GridSearchCV(nn_model, nn_params, cv=3)\n",
    "gs.fit(X_train, Y_train)\n",
    "\n",
    "print('Los mejores parametros segun Grid Search:', gs.best_params_)"
   ]
  },
  {
   "cell_type": "markdown",
   "metadata": {},
   "source": [
    "En resumen, dado que las redes neuronales pueden hacer facilmente overfitting, partimos la muestra de nuevo para obtener train y test en validación y poder así generalizar todos los casos posibles.\n",
    "\n",
    "Luego definimos una función para calibrar 7 hiperparámetros de una red neuronal y poder así encontrar los mejores valores. \n",
    "\n",
    "Para la calibración de hiperparámetros el modelo Grindsearch, al considerar todas las combinaciones posibles, es un poco mejor que el Ramdonsearch dado que este último toma valores aleatorios y los evalúa. Por lo tanto, aunque sabemos que es más costoso computacionalmente, y lo fue, escogimos el Grindsearch para calibrar los hiperparámetros de la red neuronal. \n",
    "\n",
    "Los mejores valores arrojados son un modelo de activación sigmoidea, la cuál al estar sus valores entre 0 a 1 se usa especialmente para modelos en los que tenemos que predecir la probabilidad, como en este caso. \n",
    "\n",
    "De igual manera, 20 fueron las épocas más óptimas, que se explican como cada ciclo de corrección de propagación hacia atrás y hacia adelante para reducir las pérdida. Es curioso que aunque en la gráfica se observa que la función de pérdida no llegó a una estabilidad, los valores predictivos del modelo arrojados son decentes. \n",
    "\n",
    "El batchsize es 64, este es el número de ejemplos que se introducen en la red para que entrene de cada vez. Al haber escogido el menor entre 64 y 128, este entrena más rápido al tener en memoria menor cantidad de datos. \n",
    "\n",
    "Se usó una función de pérdida de binarycrossentropy que mide la presentación de un modelo cuyo rendimiento es la probabilidad en un rango entre 0 y 1. \n",
    "\n",
    "Por último, 256 neuronas fueron las más óptimas y un optimizador Adam el cuál combina las ventajas de los algoritmos RMSprop y Momentum para mejorar el proceso de aprendizaje de un modelo. "
   ]
  },
  {
   "cell_type": "markdown",
   "metadata": {},
   "source": [
    "# Entrenamiento del modelo"
   ]
  },
  {
   "cell_type": "markdown",
   "metadata": {},
   "source": [
    "Entrenamos el modelo con los mejores parámetros que nos brindó la calibración usando un modelo de Grindsearch."
   ]
  },
  {
   "cell_type": "code",
   "execution_count": 23,
   "metadata": {},
   "outputs": [
    {
     "data": {
      "image/png": "[encoded data removed]",
      "text/plain": [
       "<Figure size 1200x800 with 2 Axes>"
      ]
     },
     "metadata": {},
     "output_type": "display_data"
    },
    {
     "name": "stdout",
     "output_type": "stream",
     "text": [
      "Loss\n",
      "\ttraining         \t (min:    0.108, max:    0.322, cur:    0.108)\n",
      "\tvalidation       \t (min:    0.222, max:    0.298, cur:    0.236)\n",
      "71/71 [==============================] - 1s 9ms/step - loss: 0.1078 - val_loss: 0.2364\n",
      "141/141 [==============================] - 1s 5ms/step - loss: 0.1010 - val_loss: 0.2456\n"
     ]
    },
    {
     "data": {
      "text/plain": [
       "<keras.src.callbacks.History at 0x2a0d47700>"
      ]
     },
     "execution_count": 23,
     "metadata": {},
     "output_type": "execute_result"
    }
   ],
   "source": [
    "# Desempeño de modelo con los parametros de Grid Search\n",
    "model = nn_model_params(optimizer = 'adam',\n",
    "                        neurons=256,\n",
    "                        batch_size=64,\n",
    "                        epochs=20,\n",
    "                        activation='sigmoid',\n",
    "                        patience=5,\n",
    "                        loss='binary_crossentropy')\n",
    "\n",
    "model.fit(X_train, Y_train, validation_data = (X_val, Y_val), workers=6)"
   ]
  },
  {
   "cell_type": "code",
   "execution_count": 24,
   "metadata": {},
   "outputs": [
    {
     "name": "stdout",
     "output_type": "stream",
     "text": [
      "82/82 [==============================] - 0s 1ms/step\n"
     ]
    },
    {
     "data": {
      "text/plain": [
       "0.8409607383756773"
      ]
     },
     "execution_count": 24,
     "metadata": {},
     "output_type": "execute_result"
    }
   ],
   "source": [
    "# Predicción del modelo de clasificación\n",
    "y_pred_genres = model.predict(X_test)\n",
    "\n",
    "# Impresión del desempeño del modelo\n",
    "roc_auc_score(y_test_genres, y_pred_genres, average='macro')"
   ]
  },
  {
   "cell_type": "markdown",
   "metadata": {},
   "source": [
    "Evaluamos el desempeño del modelo con la métrica de área bajo la curva AUC con un valor de 0.84, el cuál es un valor muy parecido al arrojado en la competencia de Kaggle cuando el algoritmo se enfrentó a valores nuevos. Esta métrica proporciona una medida de rendimiento en todos los umbrales de clasificación posibles.\n",
    "\n",
    "Escogimos como modelo de predicción las redes neuronales, dado que además de ser modelos que tienen el objetivo de encontrar la función que mejor se aproxime a un conjunto de datos, son capaces de aproximar funciones complejas, no necesariamente lineales, debido a que tienen un mayor poder de predicción."
   ]
  },
  {
   "cell_type": "markdown",
   "metadata": {},
   "source": [
    "### Exportando los resultados publicados en la competencia Kaggle"
   ]
  },
  {
   "cell_type": "code",
   "execution_count": 25,
   "metadata": {},
   "outputs": [
    {
     "name": "stdout",
     "output_type": "stream",
     "text": [
      "106/106 [==============================] - 0s 2ms/step\n"
     ]
    }
   ],
   "source": [
    "# transformación variables predictoras X del conjunto de test\n",
    "X_test_dtm = vect.transform(dataTesting['plot'])\n",
    "X_test_dtm = X_test_dtm.toarray()\n",
    "\n",
    "cols = ['p_Action', 'p_Adventure', 'p_Animation', 'p_Biography', 'p_Comedy', 'p_Crime', 'p_Documentary', 'p_Drama', 'p_Family',\n",
    "        'p_Fantasy', 'p_Film-Noir', 'p_History', 'p_Horror', 'p_Music', 'p_Musical', 'p_Mystery', 'p_News', 'p_Romance',\n",
    "        'p_Sci-Fi', 'p_Short', 'p_Sport', 'p_Thriller', 'p_War', 'p_Western']\n",
    "\n",
    "# Predicción del conjunto de test\n",
    "y_pred_test_genres = model.predict(X_test_dtm)"
   ]
  },
  {
   "cell_type": "code",
   "execution_count": 26,
   "metadata": {},
   "outputs": [
    {
     "data": {
      "text/html": [
       "<div>\n",
       "<style scoped>\n",
       "    .dataframe tbody tr th:only-of-type {\n",
       "        vertical-align: middle;\n",
       "    }\n",
       "\n",
       "    .dataframe tbody tr th {\n",
       "        vertical-align: top;\n",
       "    }\n",
       "\n",
       "    .dataframe thead th {\n",
       "        text-align: right;\n",
       "    }\n",
       "</style>\n",
       "<table border=\"1\" class=\"dataframe\">\n",
       "  <thead>\n",
       "    <tr style=\"text-align: right;\">\n",
       "      <th></th>\n",
       "      <th>p_Action</th>\n",
       "      <th>p_Adventure</th>\n",
       "      <th>p_Animation</th>\n",
       "      <th>p_Biography</th>\n",
       "      <th>p_Comedy</th>\n",
       "      <th>p_Crime</th>\n",
       "      <th>p_Documentary</th>\n",
       "      <th>p_Drama</th>\n",
       "      <th>p_Family</th>\n",
       "      <th>p_Fantasy</th>\n",
       "      <th>...</th>\n",
       "      <th>p_Musical</th>\n",
       "      <th>p_Mystery</th>\n",
       "      <th>p_News</th>\n",
       "      <th>p_Romance</th>\n",
       "      <th>p_Sci-Fi</th>\n",
       "      <th>p_Short</th>\n",
       "      <th>p_Sport</th>\n",
       "      <th>p_Thriller</th>\n",
       "      <th>p_War</th>\n",
       "      <th>p_Western</th>\n",
       "    </tr>\n",
       "  </thead>\n",
       "  <tbody>\n",
       "    <tr>\n",
       "      <th>1</th>\n",
       "      <td>0.001304</td>\n",
       "      <td>0.015312</td>\n",
       "      <td>0.001085</td>\n",
       "      <td>0.004963</td>\n",
       "      <td>0.693236</td>\n",
       "      <td>0.013064</td>\n",
       "      <td>0.000007</td>\n",
       "      <td>0.951157</td>\n",
       "      <td>0.005994</td>\n",
       "      <td>0.092338</td>\n",
       "      <td>...</td>\n",
       "      <td>0.042089</td>\n",
       "      <td>0.074507</td>\n",
       "      <td>0.000539</td>\n",
       "      <td>0.994497</td>\n",
       "      <td>0.002226</td>\n",
       "      <td>0.003242</td>\n",
       "      <td>0.001514</td>\n",
       "      <td>0.017822</td>\n",
       "      <td>0.002182</td>\n",
       "      <td>0.008527</td>\n",
       "    </tr>\n",
       "    <tr>\n",
       "      <th>4</th>\n",
       "      <td>0.190227</td>\n",
       "      <td>0.005835</td>\n",
       "      <td>0.000260</td>\n",
       "      <td>0.007044</td>\n",
       "      <td>0.150718</td>\n",
       "      <td>0.553395</td>\n",
       "      <td>0.008630</td>\n",
       "      <td>0.252417</td>\n",
       "      <td>0.000566</td>\n",
       "      <td>0.001437</td>\n",
       "      <td>...</td>\n",
       "      <td>0.001184</td>\n",
       "      <td>0.070758</td>\n",
       "      <td>0.000749</td>\n",
       "      <td>0.001994</td>\n",
       "      <td>0.035584</td>\n",
       "      <td>0.005954</td>\n",
       "      <td>0.004880</td>\n",
       "      <td>0.676030</td>\n",
       "      <td>0.001442</td>\n",
       "      <td>0.010459</td>\n",
       "    </tr>\n",
       "    <tr>\n",
       "      <th>5</th>\n",
       "      <td>0.007915</td>\n",
       "      <td>0.000658</td>\n",
       "      <td>0.000023</td>\n",
       "      <td>0.071199</td>\n",
       "      <td>0.008551</td>\n",
       "      <td>0.782740</td>\n",
       "      <td>0.002059</td>\n",
       "      <td>0.990983</td>\n",
       "      <td>0.000026</td>\n",
       "      <td>0.000238</td>\n",
       "      <td>...</td>\n",
       "      <td>0.001134</td>\n",
       "      <td>0.200261</td>\n",
       "      <td>0.000600</td>\n",
       "      <td>0.138202</td>\n",
       "      <td>0.002997</td>\n",
       "      <td>0.002058</td>\n",
       "      <td>0.003203</td>\n",
       "      <td>0.739981</td>\n",
       "      <td>0.011931</td>\n",
       "      <td>0.010830</td>\n",
       "    </tr>\n",
       "    <tr>\n",
       "      <th>6</th>\n",
       "      <td>0.024090</td>\n",
       "      <td>0.047267</td>\n",
       "      <td>0.000839</td>\n",
       "      <td>0.026954</td>\n",
       "      <td>0.001726</td>\n",
       "      <td>0.002094</td>\n",
       "      <td>0.001887</td>\n",
       "      <td>0.954593</td>\n",
       "      <td>0.001198</td>\n",
       "      <td>0.016273</td>\n",
       "      <td>...</td>\n",
       "      <td>0.004778</td>\n",
       "      <td>0.039318</td>\n",
       "      <td>0.000862</td>\n",
       "      <td>0.183620</td>\n",
       "      <td>0.078231</td>\n",
       "      <td>0.004850</td>\n",
       "      <td>0.002497</td>\n",
       "      <td>0.153206</td>\n",
       "      <td>0.114815</td>\n",
       "      <td>0.025219</td>\n",
       "    </tr>\n",
       "    <tr>\n",
       "      <th>7</th>\n",
       "      <td>0.000631</td>\n",
       "      <td>0.002032</td>\n",
       "      <td>0.001857</td>\n",
       "      <td>0.001257</td>\n",
       "      <td>0.413053</td>\n",
       "      <td>0.002452</td>\n",
       "      <td>0.001836</td>\n",
       "      <td>0.077577</td>\n",
       "      <td>0.005518</td>\n",
       "      <td>0.111056</td>\n",
       "      <td>...</td>\n",
       "      <td>0.011490</td>\n",
       "      <td>0.246173</td>\n",
       "      <td>0.000674</td>\n",
       "      <td>0.076813</td>\n",
       "      <td>0.176089</td>\n",
       "      <td>0.007689</td>\n",
       "      <td>0.000303</td>\n",
       "      <td>0.091227</td>\n",
       "      <td>0.000106</td>\n",
       "      <td>0.001596</td>\n",
       "    </tr>\n",
       "  </tbody>\n",
       "</table>\n",
       "<p>5 rows × 24 columns</p>\n",
       "</div>"
      ],
      "text/plain": [
       "   p_Action  p_Adventure  p_Animation  p_Biography  p_Comedy   p_Crime  \\\n",
       "1  0.001304     0.015312     0.001085     0.004963  0.693236  0.013064   \n",
       "4  0.190227     0.005835     0.000260     0.007044  0.150718  0.553395   \n",
       "5  0.007915     0.000658     0.000023     0.071199  0.008551  0.782740   \n",
       "6  0.024090     0.047267     0.000839     0.026954  0.001726  0.002094   \n",
       "7  0.000631     0.002032     0.001857     0.001257  0.413053  0.002452   \n",
       "\n",
       "   p_Documentary   p_Drama  p_Family  p_Fantasy  ...  p_Musical  p_Mystery  \\\n",
       "1       0.000007  0.951157  0.005994   0.092338  ...   0.042089   0.074507   \n",
       "4       0.008630  0.252417  0.000566   0.001437  ...   0.001184   0.070758   \n",
       "5       0.002059  0.990983  0.000026   0.000238  ...   0.001134   0.200261   \n",
       "6       0.001887  0.954593  0.001198   0.016273  ...   0.004778   0.039318   \n",
       "7       0.001836  0.077577  0.005518   0.111056  ...   0.011490   0.246173   \n",
       "\n",
       "     p_News  p_Romance  p_Sci-Fi   p_Short   p_Sport  p_Thriller     p_War  \\\n",
       "1  0.000539   0.994497  0.002226  0.003242  0.001514    0.017822  0.002182   \n",
       "4  0.000749   0.001994  0.035584  0.005954  0.004880    0.676030  0.001442   \n",
       "5  0.000600   0.138202  0.002997  0.002058  0.003203    0.739981  0.011931   \n",
       "6  0.000862   0.183620  0.078231  0.004850  0.002497    0.153206  0.114815   \n",
       "7  0.000674   0.076813  0.176089  0.007689  0.000303    0.091227  0.000106   \n",
       "\n",
       "   p_Western  \n",
       "1   0.008527  \n",
       "4   0.010459  \n",
       "5   0.010830  \n",
       "6   0.025219  \n",
       "7   0.001596  \n",
       "\n",
       "[5 rows x 24 columns]"
      ]
     },
     "execution_count": 26,
     "metadata": {},
     "output_type": "execute_result"
    }
   ],
   "source": [
    "# Guardar predicciones en formato exigido en la competencia de kaggle\n",
    "res = pd.DataFrame(y_pred_test_genres, index=dataTesting.index, columns=cols)\n",
    "res.to_csv('pred_genres_text_RF.csv', index_label='ID')\n",
    "res.head()"
   ]
  },
  {
   "cell_type": "markdown",
   "metadata": {},
   "source": [
    "# Disponibilización del Modelo\n",
    "\n",
    "Para disponibilizar el modelo a través de una api, es necesario exportar los archivos binarios de los modelos entrenados. Para este caso en particular, exportamos el modelo entrenado _**'model'**_ que realizara las clasificaciones de los generos de las peliculas. Y además exportamos el modelo entrenado con los datos de training TfIdfVectorizer llamado _**'vect'**_\n",
    "que utilizaremos para transformar los datos desconocidos por el modelo en el argumento de entrada _'plot'_ para que este los pueda entender y sea capaz de clasificar la información."
   ]
  },
  {
   "cell_type": "code",
   "execution_count": 32,
   "metadata": {},
   "outputs": [],
   "source": [
    "# Exportar modelo a archivo .h5 utilizando la funcion save de libreria. Evita errores comunes con la forma joblib \n",
    "model.save('clf_gender_movies.h5')"
   ]
  },
  {
   "cell_type": "code",
   "execution_count": 28,
   "metadata": {},
   "outputs": [
    {
     "data": {
      "text/plain": [
       "['vect_gender_movies.pkl']"
      ]
     },
     "execution_count": 28,
     "metadata": {},
     "output_type": "execute_result"
    }
   ],
   "source": [
    "# Exportar vectorizador entrenado a archivo binario .pkl se puede ajustar el compress en valores mas altos # para que el archivo sea mas pequeño.\n",
    "import joblib\n",
    "joblib.dump(vect, 'vect_gender_movies.pkl', compress=3)"
   ]
  },
  {
   "cell_type": "markdown",
   "metadata": {},
   "source": [
    "Una vez con los modelos exportados implementamos los siguientes pasos para disponibilizar el modelo:\n",
    "\n",
    " 1. Desde la consola de AWS lanzamos una Instancia **EC2** con SO **Ubuntu**.\n",
    " 2. Asignamos a la instancia los grupos de seguridad adecuados que permitan trafico de entrada desde **cualquier dirección IP** (0.0.0.0/0) y las definimos de tipo **TCP** por los **puertos 22, 446, 8888 y 5000**.\n",
    " 3. Utilizando el par de llaves publico-privada nos conectamos por **ssh** y subimos los archivos:\n",
    "     - _**vect_gender_movies.pkl**_: Binario del modelo vectorizador.\n",
    "     \n",
    "     - _**clf_gender_movies.h5**_: Binario del modelo Clasificador.\n",
    "     \n",
    "     - _**api.py**_: Script de python que levanta una API utilizando el framework de Flask. En este se hace una definición del _PATH_ y tipo de petición (_GET_ para este caso) y de los parametros que recibirá la API tales como _'year, title, plot'_ y se agrega una descripción de ayuda al usuario para que pueda utilizarla claramente a través de la firma creada en formato swagger.json\n",
    "     \n",
    "     - _**model_deployment.py**_: Script de python que carga los modelos y define la funcion _**'clf_gender_movie(year, title, plot)'**_ que es llamada por la API \n",
    " 4. Levantamos la API y la dejamos ejecutandose en segundo plano utilizando el comando:\n",
    "     - _**screen -d -m python3 api.py**_\n",
    "     \n",
    "Se puede acceder a los scripts a través del siguiente link:\n",
    "\n",
    "https://github.com/Josehoyos26/ML-y-PLN-Grupo-26/tree/48645aa4e55aa9d0e06e219e3f4e322613a2b4a9/Proyecto%20Semana%207/scripts_disponibilizacion\n",
    "     \n",
    "Se puede acceder a la firma de la API a través del siguiente link:\n",
    "\n",
    "http://ec2-35-92-115-9.us-west-2.compute.amazonaws.com:8888 \n",
    "\n",
    "## Probando modelo disponible a través de API en un EC2 en AWS\n",
    "\n",
    "Una vez desplegado el servicio de EC2 en AWS y cargado los scripts descritos anteriormente procedemos a hacer un par de pruebas con la API, utilizando el DNS publico de la instancia y llamandolo por medio de comandos python para obtener una respuesta tipo JSON e imprimirla.\n",
    "\n",
    "Realizaremos tres pruebas para demostrar su funcionamiento basada en los tres primeros registros del dataset de Testing:"
   ]
  },
  {
   "cell_type": "code",
   "execution_count": 10,
   "metadata": {},
   "outputs": [
    {
     "data": {
      "text/html": [
       "<div>\n",
       "<style scoped>\n",
       "    .dataframe tbody tr th:only-of-type {\n",
       "        vertical-align: middle;\n",
       "    }\n",
       "\n",
       "    .dataframe tbody tr th {\n",
       "        vertical-align: top;\n",
       "    }\n",
       "\n",
       "    .dataframe thead th {\n",
       "        text-align: right;\n",
       "    }\n",
       "</style>\n",
       "<table border=\"1\" class=\"dataframe\">\n",
       "  <thead>\n",
       "    <tr style=\"text-align: right;\">\n",
       "      <th></th>\n",
       "      <th>year</th>\n",
       "      <th>title</th>\n",
       "      <th>plot</th>\n",
       "    </tr>\n",
       "  </thead>\n",
       "  <tbody>\n",
       "    <tr>\n",
       "      <th>1</th>\n",
       "      <td>1999</td>\n",
       "      <td>Message in a Bottle</td>\n",
       "      <td>who meets by fate ,  shall be sealed by fate ....</td>\n",
       "    </tr>\n",
       "    <tr>\n",
       "      <th>4</th>\n",
       "      <td>1978</td>\n",
       "      <td>Midnight Express</td>\n",
       "      <td>the true story of billy hayes ,  an american c...</td>\n",
       "    </tr>\n",
       "    <tr>\n",
       "      <th>5</th>\n",
       "      <td>1996</td>\n",
       "      <td>Primal Fear</td>\n",
       "      <td>martin vail left the chicago da ' s office to ...</td>\n",
       "    </tr>\n",
       "  </tbody>\n",
       "</table>\n",
       "</div>"
      ],
      "text/plain": [
       "   year                title  \\\n",
       "1  1999  Message in a Bottle   \n",
       "4  1978     Midnight Express   \n",
       "5  1996          Primal Fear   \n",
       "\n",
       "                                                plot  \n",
       "1  who meets by fate ,  shall be sealed by fate ....  \n",
       "4  the true story of billy hayes ,  an american c...  \n",
       "5  martin vail left the chicago da ' s office to ...  "
      ]
     },
     "execution_count": 10,
     "metadata": {},
     "output_type": "execute_result"
    }
   ],
   "source": [
    "dataTesting.head(3)"
   ]
  },
  {
   "cell_type": "markdown",
   "metadata": {},
   "source": [
    "Es importante aclarar que para poder consumir la API los _**espacios**_ deben reemplazarse por su caracter correspondiente como _**%20**_."
   ]
  },
  {
   "cell_type": "code",
   "execution_count": 26,
   "metadata": {},
   "outputs": [
    {
     "name": "stdout",
     "output_type": "stream",
     "text": [
      "year                                                  1999\n",
      "title                                  Message in a Bottle\n",
      "plot     who meets by fate ,  shall be sealed by fate ....\n",
      "Name: 1, dtype: object\n"
     ]
    },
    {
     "data": {
      "text/plain": [
       "[{'p_Action': 0.0013035286,\n",
       "  'p_Adventure': 0.0153117254,\n",
       "  'p_Animation': 0.0010849548,\n",
       "  'p_Biography': 0.0049630883,\n",
       "  'p_Comedy': 0.6932355165,\n",
       "  'p_Crime': 0.0130637195,\n",
       "  'p_Documentary': 6.5982e-06,\n",
       "  'p_Drama': 0.9511572719,\n",
       "  'p_Family': 0.0059937723,\n",
       "  'p_Fantasy': 0.0923378989,\n",
       "  'p_Film-Noir': 0.0099457996,\n",
       "  'p_History': 0.002210544,\n",
       "  'p_Horror': 0.004236877,\n",
       "  'p_Music': 0.0096301688,\n",
       "  'p_Musical': 0.0420891307,\n",
       "  'p_Mystery': 0.0745066851,\n",
       "  'p_News': 0.0005386724,\n",
       "  'p_Romance': 0.9944974184,\n",
       "  'p_Sci-Fi': 0.0022259071,\n",
       "  'p_Short': 0.003241861,\n",
       "  'p_Sport': 0.0015135703,\n",
       "  'p_Thriller': 0.0178215913,\n",
       "  'p_War': 0.0021817936,\n",
       "  'p_Western': 0.0085275071}]"
      ]
     },
     "execution_count": 26,
     "metadata": {},
     "output_type": "execute_result"
    }
   ],
   "source": [
    "import requests\n",
    "import re\n",
    "\n",
    "# Primera prueba ID 0\n",
    "ruta_base = 'http://ec2-35-92-115-9.us-west-2.compute.amazonaws.com:8888/classifier/?'\n",
    "year = 'year=' + str(dataTesting.iloc[0,:]['year'])\n",
    "title = '&title=' + re.sub(' +', '%20',str(dataTesting.iloc[0,:]['title']))\n",
    "plot = '&plot=' + re.sub(' +', '%20',str(dataTesting.iloc[0,:]['plot']))\n",
    "url = ruta_base + year + title + plot # URL del endpoint\n",
    "\n",
    "response = requests.get(url) # Realiza la solicitud GET\n",
    "\n",
    "if response.status_code == 200: # Verifica si la respuesta es exitosa (código 200) \n",
    "    data = response.json() # Obtén el JSON de la respuesta\n",
    "    #print(data) # Imprime el JSON\n",
    "else:\n",
    "    data = \"Error\"\n",
    "    #print(f'Error al realizar la solicitud: {response.status_code}')\n",
    "\n",
    "print(dataTesting.iloc[0,:])\n",
    "data"
   ]
  },
  {
   "cell_type": "code",
   "execution_count": 27,
   "metadata": {},
   "outputs": [
    {
     "name": "stdout",
     "output_type": "stream",
     "text": [
      "year                                                  1978\n",
      "title                                     Midnight Express\n",
      "plot     the true story of billy hayes ,  an american c...\n",
      "Name: 4, dtype: object\n"
     ]
    },
    {
     "data": {
      "text/plain": [
       "[{'p_Action': 0.1902271658,\n",
       "  'p_Adventure': 0.005834498,\n",
       "  'p_Animation': 0.000260144,\n",
       "  'p_Biography': 0.0070442497,\n",
       "  'p_Comedy': 0.1507183015,\n",
       "  'p_Crime': 0.5533950925,\n",
       "  'p_Documentary': 0.0086294999,\n",
       "  'p_Drama': 0.252417475,\n",
       "  'p_Family': 0.0005664698,\n",
       "  'p_Fantasy': 0.0014370566,\n",
       "  'p_Film-Noir': 0.0096444543,\n",
       "  'p_History': 0.0021165935,\n",
       "  'p_Horror': 0.0423066318,\n",
       "  'p_Music': 0.0022852526,\n",
       "  'p_Musical': 0.0011836416,\n",
       "  'p_Mystery': 0.0707583129,\n",
       "  'p_News': 0.0007491773,\n",
       "  'p_Romance': 0.001993811,\n",
       "  'p_Sci-Fi': 0.0355842449,\n",
       "  'p_Short': 0.0059541953,\n",
       "  'p_Sport': 0.0048801024,\n",
       "  'p_Thriller': 0.6760299206,\n",
       "  'p_War': 0.0014415757,\n",
       "  'p_Western': 0.0104586538}]"
      ]
     },
     "execution_count": 27,
     "metadata": {},
     "output_type": "execute_result"
    }
   ],
   "source": [
    "# Segunda prueba ID 1\n",
    "ruta_base = 'http://ec2-35-92-115-9.us-west-2.compute.amazonaws.com:8888/classifier/?'\n",
    "year = 'year=' + str(dataTesting.iloc[1,:]['year'])\n",
    "title = '&title=' + re.sub(' +', '%20',str(dataTesting.iloc[1,:]['title']))\n",
    "plot = '&plot=' + re.sub(' +', '%20',str(dataTesting.iloc[1,:]['plot']))\n",
    "url = ruta_base + year + title + plot # URL del endpoint\n",
    "\n",
    "response = requests.get(url) # Realiza la solicitud GET\n",
    "\n",
    "if response.status_code == 200: # Verifica si la respuesta es exitosa (código 200) \n",
    "    data = response.json() # Obtén el JSON de la respuesta\n",
    "    #print(data) # Imprime el JSON\n",
    "else:\n",
    "    data = \"Error\"\n",
    "    #print(f'Error al realizar la solicitud: {response.status_code}')\n",
    "    \n",
    "print(dataTesting.iloc[1,:])\n",
    "data"
   ]
  },
  {
   "cell_type": "code",
   "execution_count": 28,
   "metadata": {},
   "outputs": [
    {
     "name": "stdout",
     "output_type": "stream",
     "text": [
      "year                                                  1996\n",
      "title                                          Primal Fear\n",
      "plot     martin vail left the chicago da ' s office to ...\n",
      "Name: 5, dtype: object\n"
     ]
    },
    {
     "data": {
      "text/plain": [
       "[{'p_Action': 0.0079146754,\n",
       "  'p_Adventure': 0.0006577424,\n",
       "  'p_Animation': 2.29112e-05,\n",
       "  'p_Biography': 0.0711987689,\n",
       "  'p_Comedy': 0.0085507547,\n",
       "  'p_Crime': 0.7827395201,\n",
       "  'p_Documentary': 0.0020590061,\n",
       "  'p_Drama': 0.9909827113,\n",
       "  'p_Family': 2.61865e-05,\n",
       "  'p_Fantasy': 0.000237862,\n",
       "  'p_Film-Noir': 0.1439110339,\n",
       "  'p_History': 0.013325097,\n",
       "  'p_Horror': 0.0022851634,\n",
       "  'p_Music': 0.0069345362,\n",
       "  'p_Musical': 0.0011340702,\n",
       "  'p_Mystery': 0.2002615035,\n",
       "  'p_News': 0.0006001942,\n",
       "  'p_Romance': 0.1382018477,\n",
       "  'p_Sci-Fi': 0.0029973299,\n",
       "  'p_Short': 0.0020578592,\n",
       "  'p_Sport': 0.0032033406,\n",
       "  'p_Thriller': 0.7399813533,\n",
       "  'p_War': 0.0119306389,\n",
       "  'p_Western': 0.0108298128}]"
      ]
     },
     "execution_count": 28,
     "metadata": {},
     "output_type": "execute_result"
    }
   ],
   "source": [
    "# Tercera prueba ID 2\n",
    "ruta_base = 'http://ec2-35-92-115-9.us-west-2.compute.amazonaws.com:8888/classifier/?'\n",
    "year = 'year=' + str(dataTesting.iloc[2,:]['year'])\n",
    "title = '&title=' + re.sub(' +', '%20',str(dataTesting.iloc[2,:]['title']))\n",
    "plot = '&plot=' + re.sub(' +', '%20',str(dataTesting.iloc[2,:]['plot']))\n",
    "url = ruta_base + year + title + plot # URL del endpoint\n",
    "\n",
    "response = requests.get(url) # Realiza la solicitud GET\n",
    "\n",
    "if response.status_code == 200: # Verifica si la respuesta es exitosa (código 200) \n",
    "    data = response.json() # Obtén el JSON de la respuesta\n",
    "    #print(data) # Imprime el JSON\n",
    "else:\n",
    "    data = \"Error\"\n",
    "    #print(f'Error al realizar la solicitud: {response.status_code}')\n",
    "\n",
    "print(dataTesting.iloc[2,:])\n",
    "data"
   ]
  },
  {
   "cell_type": "markdown",
   "metadata": {},
   "source": [
    "# Conclusiones\n",
    "\n",
    "En primer lugar, para el preprocesamiento los mejores resultados fueron la combinación de eliminar los stopwords o palabras más comunes, lematización para conocer la representación de cada palabra usando un diccionario y TFIDVectorizer que ayuda a lidiar con las palabras más repetitivas y las penaliza.\n",
    "\n",
    "En la calibración de parámetros fue importante volver a dividir la muestra para combatir el overfitting y poder generalizar todos los casos posibles. Igualmente, aunque conocemos que ramdonsearch es un calibrador de hiperparámetros más rápido, preferimos usar Grindsearch dado que este evalúa todos los casos posibles. Sin embargo, sabemos que el valor computacional es muy alto y en próximos estudios es preciso evaluar estos métodos de nuevo, con más valores para mejorar la predicción del modelo. Esto se pudo observar claramente en la gráfica donde la función de pérdida no llegó a una estabilidad clara.\n",
    "\n",
    "Escogimos como modelo de predicción las redes neuronales dado que tienen un mayor poder de predicción y son capaces de aproximar funciones complejas no necesariamente lineales.\n",
    "\n",
    "El valor predictivo del modelo en entrenamiento y cuando se enfrentó a valores nuevos en la competencia de Kaggle fue muy parecido, casi igual. Por lo que se entiende que see combatió el problema de overfitting.\n",
    "\n",
    "Por último, es importante resaltar que los valores predictivos del modelo se pueden mejorar en estudios futuros a través del ejercicio iterativo. Esto es calibrando mejor los hiperparámetros dado que por cuestiones de tiempo y que hacerlo es computacionalmente alto, no se pudo profundizar en este estudio. "
   ]
  },
  {
   "cell_type": "code",
   "execution_count": null,
   "metadata": {},
   "outputs": [],
   "source": []
  }
 ],
 "metadata": {
  "kernelspec": {
   "display_name": "Python 3 (ipykernel)",
   "language": "python",
   "name": "python3"
  },
  "language_info": {
   "codemirror_mode": {
    "name": "ipython",
    "version": 3
   },
   "file_extension": ".py",
   "mimetype": "text/x-python",
   "name": "python",
   "nbconvert_exporter": "python",
   "pygments_lexer": "ipython3",
   "version": "3.9.16"
  }
 },
 "nbformat": 4,
 "nbformat_minor": 1
}
