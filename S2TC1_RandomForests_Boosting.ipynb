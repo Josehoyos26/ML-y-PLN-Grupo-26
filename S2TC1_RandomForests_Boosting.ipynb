{
 "cells": [
  {
   "cell_type": "markdown",
   "metadata": {},
   "source": [
    "![image info](https://raw.githubusercontent.com/albahnsen/MIAD_ML_and_NLP/main/images/banner_1.png)"
   ]
  },
  {
   "cell_type": "markdown",
   "metadata": {},
   "source": [
    "# Taller: Construcción e implementación de modelos Bagging, Random Forest y XGBoost\n",
    "\n",
    "En este taller podrán poner en práctica sus conocimientos sobre la construcción e implementación de modelos de Bagging, Random Forest y XGBoost. El taller está constituido por 8 puntos, en los cuales deberan seguir las intrucciones de cada numeral para su desarrollo."
   ]
  },
  {
   "cell_type": "markdown",
   "metadata": {},
   "source": [
    "## Datos predicción precio de automóviles\n",
    "\n",
    "En este taller se usará el conjunto de datos de Car Listings de Kaggle donde cada observación representa el precio de un automóvil teniendo en cuenta distintas variables como año, marca, modelo, entre otras. El objetivo es predecir el precio del automóvil. Para más detalles puede visitar el siguiente enlace: [datos](https://www.kaggle.com/jpayne/852k-used-car-listings)."
   ]
  },
  {
   "cell_type": "code",
   "execution_count": 1,
   "metadata": {},
   "outputs": [],
   "source": [
    "import warnings\n",
    "warnings.filterwarnings('ignore')"
   ]
  },
  {
   "cell_type": "code",
   "execution_count": 2,
   "metadata": {},
   "outputs": [
    {
     "data": {
      "text/html": [
       "<div>\n",
       "<style scoped>\n",
       "    .dataframe tbody tr th:only-of-type {\n",
       "        vertical-align: middle;\n",
       "    }\n",
       "\n",
       "    .dataframe tbody tr th {\n",
       "        vertical-align: top;\n",
       "    }\n",
       "\n",
       "    .dataframe thead th {\n",
       "        text-align: right;\n",
       "    }\n",
       "</style>\n",
       "<table border=\"1\" class=\"dataframe\">\n",
       "  <thead>\n",
       "    <tr style=\"text-align: right;\">\n",
       "      <th></th>\n",
       "      <th>Price</th>\n",
       "      <th>Year</th>\n",
       "      <th>Mileage</th>\n",
       "      <th>State</th>\n",
       "      <th>Make</th>\n",
       "      <th>Model</th>\n",
       "    </tr>\n",
       "  </thead>\n",
       "  <tbody>\n",
       "    <tr>\n",
       "      <th>0</th>\n",
       "      <td>34995</td>\n",
       "      <td>2017</td>\n",
       "      <td>9913</td>\n",
       "      <td>FL</td>\n",
       "      <td>Jeep</td>\n",
       "      <td>Wrangler</td>\n",
       "    </tr>\n",
       "    <tr>\n",
       "      <th>1</th>\n",
       "      <td>37895</td>\n",
       "      <td>2015</td>\n",
       "      <td>20578</td>\n",
       "      <td>OH</td>\n",
       "      <td>Chevrolet</td>\n",
       "      <td>Tahoe4WD</td>\n",
       "    </tr>\n",
       "    <tr>\n",
       "      <th>2</th>\n",
       "      <td>18430</td>\n",
       "      <td>2012</td>\n",
       "      <td>83716</td>\n",
       "      <td>TX</td>\n",
       "      <td>BMW</td>\n",
       "      <td>X5AWD</td>\n",
       "    </tr>\n",
       "    <tr>\n",
       "      <th>3</th>\n",
       "      <td>24681</td>\n",
       "      <td>2014</td>\n",
       "      <td>28729</td>\n",
       "      <td>OH</td>\n",
       "      <td>Cadillac</td>\n",
       "      <td>SRXLuxury</td>\n",
       "    </tr>\n",
       "    <tr>\n",
       "      <th>4</th>\n",
       "      <td>26998</td>\n",
       "      <td>2013</td>\n",
       "      <td>64032</td>\n",
       "      <td>CO</td>\n",
       "      <td>Jeep</td>\n",
       "      <td>Wrangler</td>\n",
       "    </tr>\n",
       "  </tbody>\n",
       "</table>\n",
       "</div>"
      ],
      "text/plain": [
       "   Price  Year  Mileage State       Make      Model\n",
       "0  34995  2017     9913    FL       Jeep   Wrangler\n",
       "1  37895  2015    20578    OH  Chevrolet   Tahoe4WD\n",
       "2  18430  2012    83716    TX        BMW      X5AWD\n",
       "3  24681  2014    28729    OH   Cadillac  SRXLuxury\n",
       "4  26998  2013    64032    CO       Jeep   Wrangler"
      ]
     },
     "execution_count": 2,
     "metadata": {},
     "output_type": "execute_result"
    }
   ],
   "source": [
    "# Importación de librerías\n",
    "%matplotlib inline\n",
    "import pandas as pd\n",
    "import numpy as np\n",
    "from math import log\n",
    "import matplotlib.pyplot as plt\n",
    "from sklearn.model_selection import train_test_split\n",
    "from sklearn.tree import DecisionTreeRegressor\n",
    "from sklearn.ensemble import BaggingRegressor\n",
    "from sklearn.ensemble import RandomForestRegressor\n",
    "from sklearn.metrics import r2_score, mean_squared_error, mean_absolute_error, f1_score, accuracy_score, explained_variance_score\n",
    "from xgboost import XGBRegressor, plot_importance\n",
    "\n",
    "\n",
    "# Lectura de la información de archivo .csv\n",
    "data = pd.read_csv('https://raw.githubusercontent.com/albahnsen/MIAD_ML_and_NLP/main/datasets/dataTrain_carListings.zip')\n",
    "\n",
    "data.head()"
   ]
  },
  {
   "cell_type": "code",
   "execution_count": 3,
   "metadata": {},
   "outputs": [
    {
     "data": {
      "text/html": [
       "<div>\n",
       "<style scoped>\n",
       "    .dataframe tbody tr th:only-of-type {\n",
       "        vertical-align: middle;\n",
       "    }\n",
       "\n",
       "    .dataframe tbody tr th {\n",
       "        vertical-align: top;\n",
       "    }\n",
       "\n",
       "    .dataframe thead th {\n",
       "        text-align: right;\n",
       "    }\n",
       "</style>\n",
       "<table border=\"1\" class=\"dataframe\">\n",
       "  <thead>\n",
       "    <tr style=\"text-align: right;\">\n",
       "      <th></th>\n",
       "      <th>Price</th>\n",
       "      <th>Year</th>\n",
       "      <th>Mileage</th>\n",
       "      <th>M_Camry</th>\n",
       "      <th>M_Camry4dr</th>\n",
       "      <th>M_CamryBase</th>\n",
       "      <th>M_CamryL</th>\n",
       "      <th>M_CamryLE</th>\n",
       "      <th>M_CamrySE</th>\n",
       "      <th>M_CamryXLE</th>\n",
       "    </tr>\n",
       "  </thead>\n",
       "  <tbody>\n",
       "    <tr>\n",
       "      <th>7</th>\n",
       "      <td>21995</td>\n",
       "      <td>2014</td>\n",
       "      <td>6480</td>\n",
       "      <td>0</td>\n",
       "      <td>0</td>\n",
       "      <td>0</td>\n",
       "      <td>1</td>\n",
       "      <td>0</td>\n",
       "      <td>0</td>\n",
       "      <td>0</td>\n",
       "    </tr>\n",
       "    <tr>\n",
       "      <th>11</th>\n",
       "      <td>13995</td>\n",
       "      <td>2014</td>\n",
       "      <td>39972</td>\n",
       "      <td>0</td>\n",
       "      <td>0</td>\n",
       "      <td>0</td>\n",
       "      <td>0</td>\n",
       "      <td>1</td>\n",
       "      <td>0</td>\n",
       "      <td>0</td>\n",
       "    </tr>\n",
       "    <tr>\n",
       "      <th>167</th>\n",
       "      <td>17941</td>\n",
       "      <td>2016</td>\n",
       "      <td>18989</td>\n",
       "      <td>0</td>\n",
       "      <td>0</td>\n",
       "      <td>0</td>\n",
       "      <td>0</td>\n",
       "      <td>0</td>\n",
       "      <td>1</td>\n",
       "      <td>0</td>\n",
       "    </tr>\n",
       "    <tr>\n",
       "      <th>225</th>\n",
       "      <td>12493</td>\n",
       "      <td>2014</td>\n",
       "      <td>51330</td>\n",
       "      <td>0</td>\n",
       "      <td>0</td>\n",
       "      <td>0</td>\n",
       "      <td>1</td>\n",
       "      <td>0</td>\n",
       "      <td>0</td>\n",
       "      <td>0</td>\n",
       "    </tr>\n",
       "    <tr>\n",
       "      <th>270</th>\n",
       "      <td>7994</td>\n",
       "      <td>2007</td>\n",
       "      <td>116065</td>\n",
       "      <td>0</td>\n",
       "      <td>1</td>\n",
       "      <td>0</td>\n",
       "      <td>0</td>\n",
       "      <td>0</td>\n",
       "      <td>0</td>\n",
       "      <td>0</td>\n",
       "    </tr>\n",
       "  </tbody>\n",
       "</table>\n",
       "</div>"
      ],
      "text/plain": [
       "     Price  Year  Mileage  M_Camry  M_Camry4dr  M_CamryBase  M_CamryL  \\\n",
       "7    21995  2014     6480        0           0            0         1   \n",
       "11   13995  2014    39972        0           0            0         0   \n",
       "167  17941  2016    18989        0           0            0         0   \n",
       "225  12493  2014    51330        0           0            0         1   \n",
       "270   7994  2007   116065        0           1            0         0   \n",
       "\n",
       "     M_CamryLE  M_CamrySE  M_CamryXLE  \n",
       "7            0          0           0  \n",
       "11           1          0           0  \n",
       "167          0          1           0  \n",
       "225          0          0           0  \n",
       "270          0          0           0  "
      ]
     },
     "execution_count": 3,
     "metadata": {},
     "output_type": "execute_result"
    }
   ],
   "source": [
    "# Preprocesamiento de datos para el taller\n",
    "data = data.loc[data['Model'].str.contains('Camry')].drop(['Make', 'State'], axis=1)\n",
    "data = data.join(pd.get_dummies(data['Model'], prefix='M'))\n",
    "data = data.drop(['Model'], axis=1)\n",
    "\n",
    "# Visualización dataset\n",
    "data.head()"
   ]
  },
  {
   "cell_type": "code",
   "execution_count": 4,
   "metadata": {},
   "outputs": [],
   "source": [
    "# Separación de variables predictoras (X) y variable de interés (y)\n",
    "y = data['Price']\n",
    "X = data.drop(['Price'], axis=1)"
   ]
  },
  {
   "cell_type": "code",
   "execution_count": 5,
   "metadata": {},
   "outputs": [],
   "source": [
    "# Separación de datos en set de entrenamiento y test\n",
    "X_train, X_test, y_train, y_test = train_test_split(X, y, test_size=0.33, random_state=42)"
   ]
  },
  {
   "cell_type": "markdown",
   "metadata": {},
   "source": [
    "### Punto 1 - Árbol de decisión manual\n",
    "\n",
    "En la celda 1 creen un árbol de decisión **manualmente**  que considere los set de entrenamiento y test definidos anteriormente y presenten el RMSE y MAE del modelo en el set de test."
   ]
  },
  {
   "cell_type": "code",
   "execution_count": 6,
   "metadata": {},
   "outputs": [],
   "source": [
    "# Celda 1\n",
    "X_test = np.array(X_test)\n",
    "y_test = np.array(y_test)"
   ]
  },
  {
   "cell_type": "code",
   "execution_count": 7,
   "metadata": {},
   "outputs": [],
   "source": [
    "def build_tree(X, y, max_depth, min_samples_split, depth=0):\n",
    "    n_samples, n_features = X.shape\n",
    "    \n",
    "    # Comprobar si hemos alcanzado la profundidad máxima o si tenemos menos muestras que las muestras mínimas para dividir\n",
    "    if depth >= max_depth or n_samples < min_samples_split:\n",
    "        return np.mean(y)\n",
    "\n",
    "    # Encontrar la característica y el umbral que minimizan el error\n",
    "    best_loss = np.inf\n",
    "    best_feature, best_threshold = None, None\n",
    "    for feature in range(n_features):\n",
    "        thresholds = np.unique(X[:, feature])\n",
    "        for threshold in thresholds:\n",
    "            y_left = y[X[:, feature] < threshold]\n",
    "            y_right = y[X[:, feature] >= threshold]\n",
    "            if len(y_left) == 0 or len(y_right) == 0:\n",
    "                continue\n",
    "            loss = np.sum((y_left - np.mean(y_left))**2) + np.sum((y_right - np.mean(y_right))**2)\n",
    "            if loss < best_loss:\n",
    "                best_loss = loss\n",
    "                best_feature = feature\n",
    "                best_threshold = threshold\n",
    "\n",
    "    # Verificar si no pudimos encontrar una división que reduzca el error\n",
    "    if best_feature is None:\n",
    "        return np.mean(y)\n",
    "\n",
    "    # Dividir los datos en nodos secundarios izquierdo y derecho\n",
    "    left_indices = X[:, best_feature] < best_threshold\n",
    "    X_left, y_left = X[left_indices], y[left_indices]\n",
    "    X_right, y_right = X[~left_indices], y[~left_indices]\n",
    "\n",
    "    # Crear los nodos secundarios izquierdo y derecho\n",
    "    left = build_tree(X_left, y_left, max_depth, min_samples_split, depth+1)\n",
    "    right = build_tree(X_right, y_right, max_depth, min_samples_split, depth+1)\n",
    "\n",
    "    # Crear el nodo actual\n",
    "    return {'feature': best_feature, 'threshold': best_threshold, 'left': left, 'right': right}"
   ]
  },
  {
   "cell_type": "code",
   "execution_count": 8,
   "metadata": {},
   "outputs": [
    {
     "name": "stdout",
     "output_type": "stream",
     "text": [
      "{'feature': 0, 'threshold': 2013, 'left': {'feature': 0, 'threshold': 2011, 'left': {'feature': 1, 'threshold': 99171, 'left': {'feature': 0, 'threshold': 2008, 'left': {'feature': 0, 'threshold': 2006, 'left': 7541.257425742574, 'right': 8834.25}, 'right': {'feature': 1, 'threshold': 64259, 'left': 11310.28735632184, 'right': 9652.621262458471}}, 'right': {'feature': 0, 'threshold': 2008, 'left': {'feature': 1, 'threshold': 132076, 'left': 7308.557142857143, 'right': 6506.493449781659}, 'right': {'feature': 1, 'threshold': 120880, 'left': 8634.1875, 'right': 7498.370535714285}}}, 'right': {'feature': 1, 'threshold': 87911, 'left': {'feature': 0, 'threshold': 2012, 'left': {'feature': 1, 'threshold': 64929, 'left': 11746.163461538461, 'right': 10840.979310344828}, 'right': {'feature': 1, 'threshold': 47544, 'left': 14624.463414634147, 'right': 12819.163855421686}}, 'right': {'feature': 1, 'threshold': 110541, 'left': {'feature': 0, 'threshold': 2012, 'left': 10273.895604395604, 'right': 11289.073825503356}, 'right': {'feature': 0, 'threshold': 2012, 'left': 8666.418032786885, 'right': 10115.676470588236}}}}, 'right': {'feature': 1, 'threshold': 30434, 'left': {'feature': 0, 'threshold': 2017, 'left': {'feature': 0, 'threshold': 2015, 'left': {'feature': 6, 'threshold': 1, 'left': 16478.661319073082, 'right': 15045.401098901099}, 'right': {'feature': 8, 'threshold': 1, 'left': 17275.121585903085, 'right': 19134.152173913044}}, 'right': {'feature': 8, 'threshold': 1, 'left': {'feature': 0, 'threshold': 2018, 'left': 18794.33834586466, 'right': 24623.296296296296}, 'right': {'feature': 1, 'threshold': 9534, 'left': 23004.984848484848, 'right': 21133.17924528302}}}, 'right': {'feature': 1, 'threshold': 59389, 'left': {'feature': 0, 'threshold': 2015, 'left': {'feature': 6, 'threshold': 1, 'left': 15288.863342566943, 'right': 14045.865942028986}, 'right': {'feature': 6, 'threshold': 1, 'left': 16439.16604244694, 'right': 15393.343949044585}}, 'right': {'feature': 1, 'threshold': 86914, 'left': {'feature': 0, 'threshold': 2015, 'left': 13493.377682403434, 'right': 14709.58125}, 'right': {'feature': 1, 'threshold': 124681, 'left': 11916.474683544304, 'right': 9827.375}}}}}\n"
     ]
    }
   ],
   "source": [
    "# Construcción del árbol\n",
    "max_depth = 5\n",
    "min_samples_split = 10\n",
    "tree = build_tree(X.values, y.values, max_depth, min_samples_split)\n",
    "\n",
    "print(tree)"
   ]
  },
  {
   "cell_type": "code",
   "execution_count": 9,
   "metadata": {},
   "outputs": [],
   "source": [
    "def predict_sample(x, tree):\n",
    "    # Función auxiliar para predecir una muestra utilizando el árbol de decisión\n",
    "    if x[tree['feature']] < tree['threshold']:\n",
    "        if isinstance(tree['left'], dict):\n",
    "            return predict_sample(x, tree['left'])\n",
    "        else:\n",
    "            return tree['left']\n",
    "    else:\n",
    "        if isinstance(tree['right'], dict):\n",
    "            return predict_sample(x, tree['right'])\n",
    "        else:\n",
    "            return tree['right']\n",
    "\n",
    "def predict(X, tree):\n",
    "    # Función para predecir un conjunto de datos utilizando el árbol de decisión\n",
    "    y_pred = np.zeros(X.shape[0])\n",
    "    for i in range(X.shape[0]):\n",
    "        y_pred[i] = predict_sample(X[i], tree)\n",
    "    return y_pred\n",
    "\n",
    "# Predecir los valores de y utilizando el conjunto de prueba y el árbol de decisión\n",
    "y_pred = predict(X_test, tree)"
   ]
  },
  {
   "cell_type": "code",
   "execution_count": 10,
   "metadata": {},
   "outputs": [
    {
     "name": "stdout",
     "output_type": "stream",
     "text": [
      "RMSE: 1642.28\n",
      "MAE: 1223.33\n"
     ]
    }
   ],
   "source": [
    "# Calcular RMSE y MAE\n",
    "rmse = np.sqrt(mean_squared_error(y_test, y_pred))\n",
    "mae = mean_absolute_error(y_test, y_pred)\n",
    "\n",
    "print(f\"RMSE: {rmse:.2f}\")\n",
    "print(f\"MAE: {mae:.2f}\")"
   ]
  },
  {
   "cell_type": "code",
   "execution_count": 11,
   "metadata": {},
   "outputs": [
    {
     "data": {
      "text/plain": [
       "DecisionTreeRegressor(max_depth=3, random_state=42)"
      ]
     },
     "execution_count": 11,
     "metadata": {},
     "output_type": "execute_result"
    }
   ],
   "source": [
    "reg_tree = DecisionTreeRegressor(max_depth=3, random_state=42)\n",
    "reg_tree.fit(X_train, y_train)"
   ]
  },
  {
   "cell_type": "code",
   "execution_count": 12,
   "metadata": {},
   "outputs": [],
   "source": [
    "y_pred = reg_tree.predict(X_test)\n",
    "mse = mean_squared_error(y_test, y_pred)\n",
    "r2 = r2_score(y_test, y_pred)"
   ]
  },
  {
   "cell_type": "code",
   "execution_count": 13,
   "metadata": {},
   "outputs": [
    {
     "name": "stdout",
     "output_type": "stream",
     "text": [
      "RMSE: 1935.1155006739664\n",
      "MAE: 1458.0246928139518\n"
     ]
    }
   ],
   "source": [
    "# Calcular el RMSE y MAE\n",
    "rmse = np.sqrt(mean_squared_error(y_test, y_pred))\n",
    "mae = mean_absolute_error(y_test, y_pred)\n",
    "\n",
    "print('RMSE:', rmse)\n",
    "print('MAE:', mae)"
   ]
  },
  {
   "cell_type": "code",
   "execution_count": 14,
   "metadata": {},
   "outputs": [
    {
     "data": {
      "image/png": "[encoded data removed]",
      "text/plain": [
       "<Figure size 640x480 with 1 Axes>"
      ]
     },
     "metadata": {},
     "output_type": "display_data"
    }
   ],
   "source": [
    "# Ajustar una línea de tendencia\n",
    "z = np.polyfit(y_test, y_pred, 1)\n",
    "p = np.poly1d(z)\n",
    "\n",
    "# Graficar la dispersión y la línea de tendencia\n",
    "plt.scatter(y_test, y_pred)\n",
    "plt.plot(y_test, p(y_test), \"r--\")\n",
    "plt.xlabel('Precios reales')\n",
    "plt.ylabel('Precios predichos')\n",
    "plt.title('RMSE')\n",
    "plt.show()"
   ]
  },
  {
   "cell_type": "markdown",
   "metadata": {},
   "source": [
    "### Punto 2 - Bagging manual\n",
    "\n",
    "En la celda 2 creen un modelo bagging **manualmente** con 10 árboles de clasificación y comenten sobre el desempeño del modelo."
   ]
  },
  {
   "cell_type": "code",
   "execution_count": 15,
   "metadata": {},
   "outputs": [
    {
     "name": "stdout",
     "output_type": "stream",
     "text": [
      "Arreglo: [ 1  2  3  4  5  6  7  8  9 10 11 12 13 14 15 16 17 18 19 20]\n",
      "Muestreo aleatorio:  [ 6 12 13  9 10 12  6 16  1 17  2 13  8 14  7 19  6 19 12 11]\n"
     ]
    }
   ],
   "source": [
    "# Se crea un arreglo de 1 a 20\n",
    "np.random.seed(1)\n",
    "\n",
    "# Impresión de arreglo y muestreo aleatorio\n",
    "nums = np.arange(1, 21)\n",
    "print('Arreglo:', nums)\n",
    "print('Muestreo aleatorio: ', np.random.choice(a=nums, size=20, replace=True))\n"
   ]
  },
  {
   "cell_type": "code",
   "execution_count": 16,
   "metadata": {},
   "outputs": [
    {
     "data": {
      "text/plain": [
       "[array([3582, 3454, 1346, ...,  826,  801, 5657]),\n",
       " array([6962, 3408, 2553, ..., 6611,  877, 6412]),\n",
       " array([1917, 3131,  384, ..., 2876, 6449, 6557]),\n",
       " array([3849, 4565, 6820, ..., 6835, 4643,  639]),\n",
       " array([2468, 3608, 1367, ..., 3108, 2961, 4357]),\n",
       " array([3142, 1537, 5966, ..., 3224, 6922, 3396]),\n",
       " array([6588, 3753, 1786, ..., 2131, 4627, 5672]),\n",
       " array([1289, 3776,  981, ..., 1891, 6034, 6165]),\n",
       " array([6079, 3819, 6976, ..., 6478, 2225, 5072]),\n",
       " array([3952, 3276,  896, ..., 4589, 1964,  893])]"
      ]
     },
     "execution_count": 16,
     "metadata": {},
     "output_type": "execute_result"
    }
   ],
   "source": [
    "# Creación de 10 muestras de bootstrap \n",
    "np.random.seed(123)\n",
    "\n",
    "n_samples = X_train.shape[0]\n",
    "n_B = 10\n",
    "\n",
    "samples = [np.random.choice(a=n_samples, size=n_samples, replace=True) for _ in range(1, n_B +1 )]\n",
    "samples"
   ]
  },
  {
   "cell_type": "code",
   "execution_count": 17,
   "metadata": {},
   "outputs": [],
   "source": [
    "# Construcción un árbol de decisión para cada muestra boostrap\n",
    "\n",
    "# Definición del modelo usando DecisionTreeRegressor de sklearn\n",
    "treereg = DecisionTreeRegressor(max_depth=None, random_state=123)"
   ]
  },
  {
   "cell_type": "code",
   "execution_count": 18,
   "metadata": {},
   "outputs": [],
   "source": [
    "# DataFrame para guardar las predicciones de cada árbol\n",
    "y_pred = pd.DataFrame(columns=['Price'])\n",
    "\n",
    "# Entrenamiento de un árbol sobre cada muestra boostrap y predicción sobre los datos de test\n",
    "for i, sample in enumerate(samples):\n",
    "    X_train = X_train.iloc[sample, 0:]\n",
    "    y_train = y_train.iloc[sample]\n",
    "    treereg.fit(X_train, y_train)\n",
    "    y_pred_i = treereg.predict(X_test)\n",
    "    y_pred['Price' + str(i+1)] = y_pred_i"
   ]
  },
  {
   "cell_type": "code",
   "execution_count": 19,
   "metadata": {},
   "outputs": [],
   "source": [
    "y_pred = y_pred.drop(['Price'], axis=1)"
   ]
  },
  {
   "cell_type": "code",
   "execution_count": 20,
   "metadata": {},
   "outputs": [
    {
     "name": "stdout",
     "output_type": "stream",
     "text": [
      "Árbol  0 tiene un error:  2141.613353645869\n",
      "Árbol  1 tiene un error:  2094.921651442501\n",
      "Árbol  2 tiene un error:  2143.588943820465\n",
      "Árbol  3 tiene un error:  2091.5765590558344\n",
      "Árbol  4 tiene un error:  2101.269034680839\n",
      "Árbol  5 tiene un error:  2166.1579741770674\n",
      "Árbol  6 tiene un error:  2167.965320861841\n",
      "Árbol  7 tiene un error:  2160.523932246401\n",
      "Árbol  8 tiene un error:  2160.7735197631982\n",
      "Árbol  9 tiene un error:  2133.42356958019\n"
     ]
    }
   ],
   "source": [
    "# Desempeño de cada árbol\n",
    "for i in range(n_B):\n",
    "    print('Árbol ', i, 'tiene un error: ', np.sqrt(mean_squared_error(y_pred.iloc[:,i], y_test)))"
   ]
  },
  {
   "cell_type": "code",
   "execution_count": 21,
   "metadata": {},
   "outputs": [
    {
     "data": {
      "text/plain": [
       "0       13038.1\n",
       "1        6493.0\n",
       "2       16491.0\n",
       "3       17744.6\n",
       "4       15988.0\n",
       "         ...   \n",
       "3459    15878.6\n",
       "3460    15515.1\n",
       "3461    19449.9\n",
       "3462    12989.0\n",
       "3463    11933.5\n",
       "Length: 3464, dtype: float64"
      ]
     },
     "execution_count": 21,
     "metadata": {},
     "output_type": "execute_result"
    }
   ],
   "source": [
    "# Predicciones promedio para cada obserbación del set de test\n",
    "y_pred.mean(axis=1)"
   ]
  },
  {
   "cell_type": "code",
   "execution_count": 22,
   "metadata": {},
   "outputs": [
    {
     "data": {
      "text/plain": [
       "1862.899085321319"
      ]
     },
     "execution_count": 22,
     "metadata": {},
     "output_type": "execute_result"
    }
   ],
   "source": [
    "# Error al promediar las predicciones de todos los árboles\n",
    "np.sqrt(mean_squared_error(y_test, y_pred.mean(axis=1)))"
   ]
  },
  {
   "cell_type": "markdown",
   "metadata": {},
   "source": [
    "### Punto 3 - Bagging con librería\n",
    "\n",
    "En la celda 3, con la librería sklearn, entrenen un modelo bagging con 10 árboles de clasificación y el parámetro `max_features` igual a `log(n_features)` y comenten sobre el desempeño del modelo."
   ]
  },
  {
   "cell_type": "code",
   "execution_count": 23,
   "metadata": {},
   "outputs": [
    {
     "data": {
      "text/plain": [
       "BaggingRegressor(max_features=2)"
      ]
     },
     "execution_count": 23,
     "metadata": {},
     "output_type": "execute_result"
    }
   ],
   "source": [
    "features = X.columns\n",
    "n_features=len(features)\n",
    "\n",
    "clfBag = BaggingRegressor(n_estimators=10, max_features=max(1, int(log(n_features))))\n",
    "clfBag.fit(X_train, y_train)"
   ]
  },
  {
   "cell_type": "code",
   "execution_count": 24,
   "metadata": {},
   "outputs": [
    {
     "name": "stdout",
     "output_type": "stream",
     "text": [
      "\n",
      "RMSE Bagging:\n",
      "2577.34867758203\n"
     ]
    }
   ],
   "source": [
    "prediccionclfBag = clfBag.predict(X_test)\n",
    "RMSE_clfBag = np.sqrt(mean_squared_error(y_test, prediccionclfBag))\n",
    "\n",
    "print('\\nRMSE Bagging:')\n",
    "print(RMSE_clfBag)"
   ]
  },
  {
   "cell_type": "markdown",
   "metadata": {},
   "source": [
    "### Punto 4 - Random forest con librería\n",
    "\n",
    "En la celda 4, usando la librería sklearn entrenen un modelo de Randon Forest para clasificación  y comenten sobre el desempeño del modelo."
   ]
  },
  {
   "cell_type": "code",
   "execution_count": 25,
   "metadata": {},
   "outputs": [
    {
     "data": {
      "text/plain": [
       "RandomForestRegressor(max_features=9, n_jobs=-1, random_state=1)"
      ]
     },
     "execution_count": 25,
     "metadata": {},
     "output_type": "execute_result"
    }
   ],
   "source": [
    "clfRF = RandomForestRegressor(n_estimators=100, max_features=n_features, random_state=1, n_jobs=-1)\n",
    "clfRF.fit(X_train, y_train)"
   ]
  },
  {
   "cell_type": "code",
   "execution_count": 26,
   "metadata": {},
   "outputs": [
    {
     "name": "stdout",
     "output_type": "stream",
     "text": [
      "\n",
      "RMSE Random Forest sin calibrar:\n",
      "1955.6536044225609\n"
     ]
    }
   ],
   "source": [
    "prediccionclfRF = clfRF.predict(X_test)\n",
    "RMSE_clfRF = np.sqrt(mean_squared_error(y_test, prediccionclfRF))\n",
    "\n",
    "print('\\nRMSE Random Forest sin calibrar:')\n",
    "print(RMSE_clfRF)"
   ]
  },
  {
   "cell_type": "markdown",
   "metadata": {},
   "source": [
    "### Punto 5 - Calibración de parámetros Random forest\n",
    "\n",
    "En la celda 5, calibren los parámetros max_depth, max_features y n_estimators del modelo de Randon Forest para clasificación, comenten sobre el desempeño del modelo y describan cómo cada parámetro afecta el desempeño del modelo."
   ]
  },
  {
   "attachments": {},
   "cell_type": "markdown",
   "metadata": {},
   "source": [
    "#### Calibración n_estimators"
   ]
  },
  {
   "cell_type": "code",
   "execution_count": 53,
   "metadata": {},
   "outputs": [
    {
     "data": {
      "text/plain": [
       "Text(0, 0.5, 'abs NMSE')"
      ]
     },
     "execution_count": 53,
     "metadata": {},
     "output_type": "execute_result"
    },
    {
     "data": {
      "image/png": "[encoded data removed]",
      "text/plain": [
       "<Figure size 640x480 with 1 Axes>"
      ]
     },
     "metadata": {},
     "output_type": "display_data"
    }
   ],
   "source": [
    "# Creación de lista de valores para iterar sobre diferentes valores de n_estimators\n",
    "estimator_range = range(20, 200, 20)\n",
    "\n",
    "nmse_scores = []\n",
    "\n",
    "# Uso de un 5-fold cross-validation para cada valor de n_estimators\n",
    "for estimator in estimator_range:\n",
    "    clf = RandomForestRegressor(n_estimators=estimator, \n",
    "                                random_state=0, n_jobs=-1)\n",
    "    nmse_scores.append(abs(cross_val_score(clf, X, y, cv=10, \n",
    "                                           scoring='neg_mean_absolute_error').mean()))\n",
    "\n",
    "# Gráfica del desempeño del modelo vs la cantidad de n_estimators\n",
    "plt.plot(estimator_range, nmse_scores)\n",
    "plt.xlabel('n_estimators')\n",
    "plt.ylabel('abs NMSE')\n",
    "\n",
    "# El NMSE tuvo su min en n_estimators=100\n"
   ]
  },
  {
   "cell_type": "markdown",
   "metadata": {},
   "source": [
    "#### Calibración max_features"
   ]
  },
  {
   "cell_type": "code",
   "execution_count": 52,
   "metadata": {},
   "outputs": [
    {
     "data": {
      "text/plain": [
       "Text(0, 0.5, 'abs NMSE')"
      ]
     },
     "execution_count": 52,
     "metadata": {},
     "output_type": "execute_result"
    },
    {
     "data": {
      "image/png": "[encoded data removed]",
      "text/plain": [
       "<Figure size 640x480 with 1 Axes>"
      ]
     },
     "metadata": {},
     "output_type": "display_data"
    }
   ],
   "source": [
    "feature_range = range(1, X_train.shape[1]+1)\n",
    "nmse_scores = []\n",
    "\n",
    "# Uso de un 10-fold cross-validation para cada valor de max_features\n",
    "for feature in feature_range:\n",
    "    clf = RandomForestRegressor(max_features=feature, n_estimators=100, random_state=0, n_jobs=-1)\n",
    "    nmse_scores.append(abs(cross_val_score(clf, X_train, y_train, cv=10, \n",
    "                                           scoring='neg_mean_absolute_error')).mean())\n",
    "\n",
    "# Gráfica del desempeño del modelo vs la cantidad de max_features\n",
    "plt.plot(feature_range, nmse_scores)\n",
    "plt.xlabel('max_features')\n",
    "plt.ylabel('abs NMSE')\n",
    "\n",
    "# El abs NMSE tuvo su min en max_features=8"
   ]
  },
  {
   "attachments": {},
   "cell_type": "markdown",
   "metadata": {},
   "source": [
    "#### Calibración max_depth"
   ]
  },
  {
   "cell_type": "code",
   "execution_count": 54,
   "metadata": {},
   "outputs": [
    {
     "data": {
      "text/plain": [
       "Text(0, 0.5, 'abs NMSE')"
      ]
     },
     "execution_count": 54,
     "metadata": {},
     "output_type": "execute_result"
    },
    {
     "data": {
      "image/png": "[encoded data removed]",
      "text/plain": [
       "<Figure size 640x480 with 1 Axes>"
      ]
     },
     "metadata": {},
     "output_type": "display_data"
    }
   ],
   "source": [
    "depth_range = range(1,31)\n",
    "\n",
    "# Definición de lista para almacenar el score para cada valor de max_depth\n",
    "nmse_scores = []\n",
    "\n",
    "# Uso de un 5-fold cross-validation para cada valor de max_depth\n",
    "for depth in depth_range:\n",
    "    #clf = RandomForestRegressor(max_depth=depth, random_state=42, n_jobs=-1)\n",
    "    clf = RandomForestRegressor(max_depth=depth, n_estimators=120, max_features=8, random_state=42, n_jobs=-1)\n",
    "    nmse_scores.append(abs(cross_val_score(clf, X_train, y_train, cv=10, \n",
    "                                           scoring='neg_mean_absolute_error').mean()))\n",
    "\n",
    "\n",
    "# Gráfica del desempeño del modelo vs la cantidad de max_depth\n",
    "plt.plot(depth_range, nmse_scores)\n",
    "plt.xlabel('max_depth')\n",
    "plt.ylabel('abs NMSE')\n",
    "\n",
    "# El abs NMSE tuvo su min en max_depth=20\n"
   ]
  },
  {
   "cell_type": "markdown",
   "metadata": {},
   "source": [
    "#### Implementación del Random Forest con los mejores parámetros"
   ]
  },
  {
   "attachments": {},
   "cell_type": "markdown",
   "metadata": {},
   "source": [
    "##### Chequeo del Desempeño de conjunto de entrenamiento vs validación"
   ]
  },
  {
   "cell_type": "code",
   "execution_count": 55,
   "metadata": {},
   "outputs": [
    {
     "name": "stdout",
     "output_type": "stream",
     "text": [
      "MEA conjunto entrenaimento:  80.76241141648885\n",
      "MEA conjunto validación:  1318.994543974265\n"
     ]
    }
   ],
   "source": [
    "clf = RandomForestRegressor(max_depth=20, max_features=8, n_estimators=100, random_state=42, n_jobs=-1)\n",
    "print('MEA conjunto entrenaimento: ',abs(cross_val_score(clf, X_train, y_train, cv=10, \n",
    "                                           scoring='neg_mean_absolute_error').mean()))\n",
    "print('MEA conjunto validación: ',abs(cross_val_score(clf, X_test, y_test, cv=10, \n",
    "                                           scoring='neg_mean_absolute_error').mean()))\n",
    "\n",
    "# La gran diferencia muestra que hay overfitting"
   ]
  },
  {
   "attachments": {},
   "cell_type": "markdown",
   "metadata": {},
   "source": [
    "##### Tuning the hyper paremeters"
   ]
  },
  {
   "cell_type": "code",
   "execution_count": 61,
   "metadata": {},
   "outputs": [
    {
     "name": "stdout",
     "output_type": "stream",
     "text": [
      "MEA conjunto entrenaimento:  1066.6311532260956\n",
      "MEA conjunto validación:  1226.2698221550577\n"
     ]
    }
   ],
   "source": [
    "# Aplicando heuristica para max_features y probando max_depth menores, se encuentra que con:\n",
    "# \n",
    "# max_features=3 -> aplicando heurística de sqrt(features)\n",
    "# max_depth=5    -> reduciendo de 20 a 10 y a 5, y probando valores cercanos\n",
    "# \n",
    "# El MEA de entrenaimento vs validción se acerca bastante\n",
    "\n",
    "clf = RandomForestRegressor(max_depth=5, max_features=3, n_estimators=100, random_state=42, n_jobs=-1)\n",
    "print('MEA conjunto entrenaimento: ',abs(cross_val_score(clf, X_train, y_train, cv=10, \n",
    "                                           scoring='neg_mean_absolute_error').mean()))\n",
    "print('MEA conjunto validación: ',abs(cross_val_score(clf, X_test, y_test, cv=10, \n",
    "                                           scoring='neg_mean_absolute_error').mean()))"
   ]
  },
  {
   "attachments": {},
   "cell_type": "markdown",
   "metadata": {},
   "source": [
    "##### Desempeño del modelo usando la función cross_val_score"
   ]
  },
  {
   "cell_type": "code",
   "execution_count": 60,
   "metadata": {},
   "outputs": [
    {
     "data": {
      "text/plain": [
       "count    10.000000\n",
       "mean      0.821211\n",
       "std       0.019171\n",
       "min       0.796546\n",
       "25%       0.811039\n",
       "50%       0.818382\n",
       "75%       0.830218\n",
       "max       0.857155\n",
       "dtype: float64"
      ]
     },
     "execution_count": 60,
     "metadata": {},
     "output_type": "execute_result"
    }
   ],
   "source": [
    "pd.Series(cross_val_score(clf, X_test, y_test, cv=10)).describe()"
   ]
  },
  {
   "cell_type": "markdown",
   "metadata": {},
   "source": [
    "### Punto 6 - XGBoost con librería\n",
    "\n",
    "En la celda 6 implementen un modelo XGBoost de clasificación con la librería sklearn y comenten sobre el desempeño del modelo."
   ]
  },
  {
   "cell_type": "code",
   "execution_count": 30,
   "metadata": {
    "scrolled": true
   },
   "outputs": [
    {
     "data": {
      "text/plain": [
       "XGBRegressor(base_score=None, booster=None, callbacks=None,\n",
       "             colsample_bylevel=None, colsample_bynode=None,\n",
       "             colsample_bytree=None, early_stopping_rounds=None,\n",
       "             enable_categorical=False, eval_metric=None, feature_types=None,\n",
       "             gamma=None, gpu_id=None, grow_policy=None, importance_type=None,\n",
       "             interaction_constraints=None, learning_rate=None, max_bin=None,\n",
       "             max_cat_threshold=None, max_cat_to_onehot=None,\n",
       "             max_delta_step=None, max_depth=None, max_leaves=None,\n",
       "             min_child_weight=None, missing=nan, monotone_constraints=None,\n",
       "             n_estimators=100, n_jobs=None, num_parallel_tree=None,\n",
       "             predictor=None, random_state=None, ...)"
      ]
     },
     "execution_count": 30,
     "metadata": {},
     "output_type": "execute_result"
    }
   ],
   "source": [
    "# Implementando un Modelo XGBoost Clasificador con parametros por default\n",
    "xgb_reg = XGBRegressor()\n",
    "xgb_reg"
   ]
  },
  {
   "cell_type": "code",
   "execution_count": 31,
   "metadata": {
    "scrolled": false
   },
   "outputs": [
    {
     "name": "stdout",
     "output_type": "stream",
     "text": [
      "Varianza: 0.743615\n",
      "RMSE: 1848.207133\n",
      "MAE: 1368.321854\n"
     ]
    }
   ],
   "source": [
    "# Entrenamiento (fit) y desempeño del modelo XGBClassifier\n",
    "xgb_reg.fit(X_train, y_train)\n",
    "\n",
    "y_pred_xgb_default = xgb_reg.predict(X_test)\n",
    "\n",
    "# Variance_score\n",
    "print(\"Varianza: %f\" % (explained_variance_score(y_pred_xgb_default, y_test)))\n",
    "\n",
    "# RMSE\n",
    "print(\"RMSE: %f\" % (np.sqrt(mean_squared_error(y_test, y_pred_xgb_default))))\n",
    "\n",
    "# MAE\n",
    "print('MAE: %f' % (mean_absolute_error(y_test, y_pred_xgb_default)))"
   ]
  },
  {
   "cell_type": "code",
   "execution_count": 32,
   "metadata": {},
   "outputs": [
    {
     "data": {
      "text/plain": [
       "<AxesSubplot:title={'center':'Feature importance'}, xlabel='F score', ylabel='Features'>"
      ]
     },
     "execution_count": 32,
     "metadata": {},
     "output_type": "execute_result"
    },
    {
     "data": {
      "image/png": "[encoded data removed]",
      "text/plain": [
       "<Figure size 640x480 with 1 Axes>"
      ]
     },
     "metadata": {},
     "output_type": "display_data"
    }
   ],
   "source": [
    "plot_importance(xgb_reg)"
   ]
  },
  {
   "cell_type": "markdown",
   "metadata": {},
   "source": [
    "### Punto 7 - Calibración de parámetros XGBoost\n",
    "\n",
    "En la celda 7 calibren los parámetros learning rate, gamma y colsample_bytree del modelo XGBoost para clasificación, comenten sobre el desempeño del modelo y describan cómo cada parámetro afecta el desempeño del modelo."
   ]
  },
  {
   "cell_type": "code",
   "execution_count": 33,
   "metadata": {},
   "outputs": [
    {
     "name": "stdout",
     "output_type": "stream",
     "text": [
      "Mejores parametros encontrados:  {'colsample_bytree': 1, 'gamma': 0, 'learning_rate': 0.5, 'n_estimators': 100}\n",
      "RMSE más bajo encontrado:  371.64757584819506\n"
     ]
    }
   ],
   "source": [
    "# Para realizar la calibración se utiliza una implementacion 'Grid Search Cross-Validation'\n",
    "from sklearn.model_selection import GridSearchCV\n",
    "\n",
    "xgb_reg = XGBRegressor()\n",
    "\n",
    "# Definir la cuadrícula de parámetros\n",
    "param_grid = {\n",
    "    'gamma': [0, 0.1, 0.5],\n",
    "    'learning_rate': [0.01, 0.1, 0.5],\n",
    "    'colsample_bytree': [0.5, 0.7, 1],\n",
    "    'n_estimators': [100],\n",
    "}\n",
    "\n",
    "# Se aplica la estrategia GridSearch\n",
    "grid_search = GridSearchCV(estimator=xgb_reg, param_grid=param_grid, cv=6, scoring='neg_mean_squared_error')\n",
    "grid_search.fit(X_train, y_train)\n",
    "\n",
    "# Obtener los mejores parámetros encontrados\n",
    "print(\"Mejores parametros encontrados: \", grid_search.best_params_)\n",
    "print(\"RMSE más bajo encontrado: \", np.sqrt(np.abs(grid_search.best_score_)))"
   ]
  },
  {
   "cell_type": "code",
   "execution_count": 34,
   "metadata": {},
   "outputs": [
    {
     "data": {
      "text/plain": [
       "XGBRegressor(base_score=None, booster=None, callbacks=None,\n",
       "             colsample_bylevel=None, colsample_bynode=None,\n",
       "             colsample_bytree=0.5, early_stopping_rounds=None,\n",
       "             enable_categorical=False, eval_metric=None, feature_types=None,\n",
       "             gamma=0, gpu_id=None, grow_policy=None, importance_type=None,\n",
       "             interaction_constraints=None, learning_rate=0.1, max_bin=None,\n",
       "             max_cat_threshold=None, max_cat_to_onehot=None,\n",
       "             max_delta_step=None, max_depth=None, max_leaves=None,\n",
       "             min_child_weight=None, missing=nan, monotone_constraints=None,\n",
       "             n_estimators=100, n_jobs=None, num_parallel_tree=None,\n",
       "             predictor=None, random_state=None, ...)"
      ]
     },
     "execution_count": 34,
     "metadata": {},
     "output_type": "execute_result"
    }
   ],
   "source": [
    "# Implementando un Modelo XGBoost Clasificador con parametros learning rate, gamma y colsample_bytree calibrados\n",
    "xgb_reg_calibrado = XGBRegressor(gamma=0, learning_rate=0.1, colsample_bytree=0.5, n_estimators=100)\n",
    "xgb_reg_calibrado"
   ]
  },
  {
   "cell_type": "code",
   "execution_count": 35,
   "metadata": {},
   "outputs": [
    {
     "name": "stdout",
     "output_type": "stream",
     "text": [
      "Varianza: 0.778134\n",
      "RMSE: 1669.105358\n",
      "MAE: 1246.416443\n"
     ]
    }
   ],
   "source": [
    "# Entrenamiento (fit) y desempeño del modelo XGBClassifier Calibrado\n",
    "xgb_reg_calibrado.fit(X_train, y_train)\n",
    "\n",
    "y_pred_xgb_calibrado = xgb_reg_calibrado.predict(X_test)\n",
    "\n",
    "# Variance_score\n",
    "print(\"Varianza: %f\" % (explained_variance_score(y_pred_xgb_calibrado, y_test)))\n",
    "\n",
    "# RMSE\n",
    "print(\"RMSE: %f\" % (np.sqrt(mean_squared_error(y_test, y_pred_xgb_calibrado))))\n",
    "\n",
    "# MAE\n",
    "print('MAE: %f' % (mean_absolute_error(y_test, y_pred_xgb_calibrado)))"
   ]
  },
  {
   "cell_type": "code",
   "execution_count": null,
   "metadata": {},
   "outputs": [],
   "source": [
    "plot_importance(xgb_reg_calibrado)"
   ]
  },
  {
   "cell_type": "markdown",
   "metadata": {},
   "source": [
    "### Punto 8 - Comparación y análisis de resultados\n",
    "En la celda 8 comparen los resultados obtenidos de los diferentes modelos (random forest y XGBoost) y comenten las ventajas del mejor modelo y las desventajas del modelo con el menor desempeño."
   ]
  },
  {
   "cell_type": "code",
   "execution_count": null,
   "metadata": {},
   "outputs": [],
   "source": []
  },
  {
   "cell_type": "code",
   "execution_count": null,
   "metadata": {},
   "outputs": [],
   "source": [
    "# Celda 8\n"
   ]
  }
 ],
 "metadata": {
  "kernelspec": {
   "display_name": "Python 3 (ipykernel)",
   "language": "python",
   "name": "python3"
  },
  "language_info": {
   "codemirror_mode": {
    "name": "ipython",
    "version": 3
   },
   "file_extension": ".py",
   "mimetype": "text/x-python",
   "name": "python",
   "nbconvert_exporter": "python",
   "pygments_lexer": "ipython3",
   "version": "3.10.10"
  }
 },
 "nbformat": 4,
 "nbformat_minor": 4
}
